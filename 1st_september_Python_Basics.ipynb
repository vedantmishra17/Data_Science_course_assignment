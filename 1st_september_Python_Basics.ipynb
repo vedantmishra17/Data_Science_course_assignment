{
 "cells": [
  {
   "cell_type": "markdown",
   "metadata": {
    "id": "32Ib54bqQDta"
   },
   "source": [
    "# Python Basics Variable"
   ]
  },
  {
   "cell_type": "markdown",
   "metadata": {},
   "source": [
    "1) Declare two variables, `x` and `y`, and assign them integer values. Swap the values of these variables without using any temporary variable.\n"
   ]
  },
  {
   "cell_type": "code",
   "execution_count": null,
   "metadata": {
    "colab": {
     "base_uri": "https://localhost:8080/"
    },
    "executionInfo": {
     "elapsed": 8,
     "status": "ok",
     "timestamp": 1693311424910,
     "user": {
      "displayName": "Vedant Mishra",
      "userId": "15613564821155736689"
     },
     "user_tz": -330
    },
    "id": "W0ZfurH-Kml8",
    "outputId": "08ebfe26-f787-4e5d-dca1-04c23f28036a"
   },
   "outputs": [
    {
     "data": {
      "text/plain": [
       "(2, 1)"
      ]
     },
     "execution_count": 9,
     "metadata": {},
     "output_type": "execute_result"
    }
   ],
   "source": [
    "#declaring two varibles\n",
    "x=1\n",
    "y=2\n",
    "#swapping\n",
    "x,y=y,x\n",
    "x,y"
   ]
  },
  {
   "cell_type": "markdown",
   "metadata": {},
   "source": [
    "2) Create a program that calculates the area of a rectangle. Take the length and\n",
    "width as inputs from the user and store them in variables. Calculate and\n",
    "display the area."
   ]
  },
  {
   "cell_type": "code",
   "execution_count": null,
   "metadata": {
    "colab": {
     "base_uri": "https://localhost:8080/"
    },
    "executionInfo": {
     "elapsed": 6615,
     "status": "ok",
     "timestamp": 1693313413985,
     "user": {
      "displayName": "Vedant Mishra",
      "userId": "15613564821155736689"
     },
     "user_tz": -330
    },
    "id": "ZkNI5w4BLeA7",
    "outputId": "c183e11a-b762-48be-f697-e4c213c0e013"
   },
   "outputs": [
    {
     "name": "stdout",
     "output_type": "stream",
     "text": [
      "enter the number: 7\n",
      "enter the number: 8\n",
      "56.0\n"
     ]
    }
   ],
   "source": [
    "\n",
    "# taking length as input from user in float\n",
    "l=float(input(\"enter the number: \"))\n",
    "# taking width as input from user in float\n",
    "w=float(input('enter the number: '))\n",
    "# formula for area of rectangle\n",
    "area_of_rectangle=l*w # area of rectangle is length*breadth\n",
    "print(area_of_rectangle)\n"
   ]
  },
  {
   "cell_type": "markdown",
   "metadata": {},
   "source": [
    "3) Write a Python program that converts temperatures from Celsius to\n",
    "Fahrenheit. Take the temperature in Celsius as input, store it in a variable,\n",
    "convert it to Fahrenheit, and display the result."
   ]
  },
  {
   "cell_type": "code",
   "execution_count": null,
   "metadata": {
    "colab": {
     "base_uri": "https://localhost:8080/"
    },
    "executionInfo": {
     "elapsed": 4386,
     "status": "ok",
     "timestamp": 1693311620210,
     "user": {
      "displayName": "Vedant Mishra",
      "userId": "15613564821155736689"
     },
     "user_tz": -330
    },
    "id": "0QxJvUheNZ33",
    "outputId": "da03c8f8-12ea-432e-d136-e6bd30a4a3c3"
   },
   "outputs": [
    {
     "name": "stdout",
     "output_type": "stream",
     "text": [
      "enter temperature in celsius50\n",
      "temprature in fahrenheit is 122.0\n"
     ]
    }
   ],
   "source": [
    "# taking temp in celsius\n",
    "temp=float(input(\"enter temperature in celsius\"))\n",
    "# converting temp into fahrenheit\n",
    "fahrenheit=temp*(9/5)+32 #formula to convert celsius into fahrenheit\n",
    "print(\"temprature in fahrenheit is\",fahrenheit)"
   ]
  },
  {
   "cell_type": "markdown",
   "metadata": {
    "id": "60XGMrl5QAoB"
   },
   "source": [
    "# String Based Questions"
   ]
  },
  {
   "cell_type": "markdown",
   "metadata": {},
   "source": [
    "1) Write a Python program that takes a string as input and prints the length of\n",
    "the string."
   ]
  },
  {
   "cell_type": "code",
   "execution_count": null,
   "metadata": {
    "colab": {
     "base_uri": "https://localhost:8080/"
    },
    "executionInfo": {
     "elapsed": 5481,
     "status": "ok",
     "timestamp": 1693311992368,
     "user": {
      "displayName": "Vedant Mishra",
      "userId": "15613564821155736689"
     },
     "user_tz": -330
    },
    "id": "AINTT2bHQN-_",
    "outputId": "0b8b885c-ce8d-4d92-e49f-90218f2a9e07"
   },
   "outputs": [
    {
     "name": "stdout",
     "output_type": "stream",
     "text": [
      "enter a stringhi vedant\n",
      "9\n"
     ]
    }
   ],
   "source": [
    "# creating a input variable that takes string\n",
    "x=str(input(\"enter a string: \"))\n",
    "len_of_str=len(x)\n",
    "# printing length of a string\n",
    "print(len_of_str)"
   ]
  },
  {
   "cell_type": "markdown",
   "metadata": {},
   "source": [
    "2) Create a program that takes a sentence from the user and counts the number\n",
    "of vowels (a, e, i, o, u) in the string."
   ]
  },
  {
   "cell_type": "code",
   "execution_count": 4,
   "metadata": {
    "colab": {
     "base_uri": "https://localhost:8080/"
    },
    "executionInfo": {
     "elapsed": 15833,
     "status": "ok",
     "timestamp": 1693315054702,
     "user": {
      "displayName": "Vedant Mishra",
      "userId": "15613564821155736689"
     },
     "user_tz": -330
    },
    "id": "x0nhybfHQmeW",
    "outputId": "7ce99bb0-79e5-4871-b650-3eb6790c2e43"
   },
   "outputs": [
    {
     "name": "stdin",
     "output_type": "stream",
     "text": [
      "enter a sentence:  my name is vedant\n"
     ]
    },
    {
     "name": "stdout",
     "output_type": "stream",
     "text": [
      "there are  5 vowels in the sentence\n"
     ]
    }
   ],
   "source": [
    "# creating a varible that takes input from user as string \n",
    "sentence =str(input(\"enter a sentence: \"))\n",
    "count=0 # creating a placeholder\n",
    "#iterating throught each letter\n",
    "for letter in sentence:\n",
    "  # converting every letter into lower to deal with upper case letters too.\n",
    "  lower_letter=letter.lower()\n",
    "  #checking if that char is in aeiou and increasing the value count by one \n",
    "  if lower_letter in ('aeiou'):\n",
    "    count+=1\n",
    "\n",
    "print(\"there are \",count,\"vowels in the sentence\")\n",
    "\n"
   ]
  },
  {
   "cell_type": "markdown",
   "metadata": {},
   "source": [
    "3) Given a string, reverse the order of characters using string slicing and print\n",
    "the reversed string."
   ]
  },
  {
   "cell_type": "code",
   "execution_count": null,
   "metadata": {
    "colab": {
     "base_uri": "https://localhost:8080/"
    },
    "executionInfo": {
     "elapsed": 5620,
     "status": "ok",
     "timestamp": 1693313721984,
     "user": {
      "displayName": "Vedant Mishra",
      "userId": "15613564821155736689"
     },
     "user_tz": -330
    },
    "id": "-KkL0u4dUPWA",
    "outputId": "15bf3725-f2a1-4a00-fe43-4dc16a981e22"
   },
   "outputs": [
    {
     "name": "stdout",
     "output_type": "stream",
     "text": [
      "enter a stringhello world\n",
      "orginal string hello world\n",
      "reversed string dlrow olleh\n"
     ]
    }
   ],
   "source": [
    "# taking input from the user\n",
    "string=str(input(\"enter a string\"))\n",
    "# printing the orginal string\n",
    "print('orginal string',string)\n",
    "# creating a variable to store the reversed string \n",
    "reversed_string=string[::-1]\n",
    "# printing the recersed string\n",
    "print(\"reversed string\",reversed_string)"
   ]
  },
  {
   "cell_type": "markdown",
   "metadata": {},
   "source": [
    "4) Write a program that takes a string as input and checks if it is a palindrome\n",
    "(reads the same forwards and backwards)."
   ]
  },
  {
   "cell_type": "code",
   "execution_count": 5,
   "metadata": {
    "colab": {
     "base_uri": "https://localhost:8080/"
    },
    "executionInfo": {
     "elapsed": 6224,
     "status": "ok",
     "timestamp": 1693314365994,
     "user": {
      "displayName": "Vedant Mishra",
      "userId": "15613564821155736689"
     },
     "user_tz": -330
    },
    "id": "3xwi1hE5WL0l",
    "outputId": "a3eddc0b-ae1e-4558-9fdf-397dc7b26029"
   },
   "outputs": [
    {
     "name": "stdin",
     "output_type": "stream",
     "text": [
      "enter a string:  naman\n"
     ]
    },
    {
     "name": "stdout",
     "output_type": "stream",
     "text": [
      "orginal string naman\n",
      "the word naman is a palindrome\n"
     ]
    }
   ],
   "source": [
    "#taking input from the user\n",
    "org_string=str(input(\"enter a string: \"))\n",
    "print(\"orginal string\",org_string)\n",
    "check =org_string[::-1]\n",
    "if org_string==check:\n",
    "  print(\"the word\",org_string,\"is a palindrome\")\n",
    "else:\n",
    "  print('not a palindrome')"
   ]
  },
  {
   "cell_type": "markdown",
   "metadata": {},
   "source": [
    "5) Create a program that takes a string as input and removes all the spaces from\n",
    "it. Print the modified string without spaces."
   ]
  },
  {
   "cell_type": "code",
   "execution_count": null,
   "metadata": {
    "colab": {
     "base_uri": "https://localhost:8080/"
    },
    "executionInfo": {
     "elapsed": 5602,
     "status": "ok",
     "timestamp": 1693315363851,
     "user": {
      "displayName": "Vedant Mishra",
      "userId": "15613564821155736689"
     },
     "user_tz": -330
    },
    "id": "3Go-FsKqWLj_",
    "outputId": "5795d92e-bcf3-465f-a622-188a6fd6f731"
   },
   "outputs": [
    {
     "name": "stdout",
     "output_type": "stream",
     "text": [
      "enter a stringhi my name\n",
      "himyname\n"
     ]
    }
   ],
   "source": [
    "# taking input from user\n",
    "string = str(input('enter a string: '))\n",
    "# removing all the white spaces\n",
    "modified_string=string.replace(\" \",\"\" )\n",
    "# printing the modified string\n",
    "print(modified_string)\n",
    "\n"
   ]
  }
 ],
 "metadata": {
  "colab": {
   "authorship_tag": "ABX9TyOCyHWzkOPOk8zGDMHYyBOo",
   "provenance": []
  },
  "kernelspec": {
   "display_name": "Python 3 (ipykernel)",
   "language": "python",
   "name": "python3"
  },
  "language_info": {
   "codemirror_mode": {
    "name": "ipython",
    "version": 3
   },
   "file_extension": ".py",
   "mimetype": "text/x-python",
   "name": "python",
   "nbconvert_exporter": "python",
   "pygments_lexer": "ipython3",
   "version": "3.10.8"
  }
 },
 "nbformat": 4,
 "nbformat_minor": 4
}
