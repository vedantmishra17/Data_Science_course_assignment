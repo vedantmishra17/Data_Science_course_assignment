{
  "nbformat": 4,
  "nbformat_minor": 0,
  "metadata": {
    "colab": {
      "provenance": []
    },
    "kernelspec": {
      "name": "python3",
      "display_name": "Python 3"
    },
    "language_info": {
      "name": "python"
    }
  },
  "cells": [
    {
      "cell_type": "markdown",
      "source": [
        "1.Given an array of n numbers, give an algorithm which gives the element appearing maximum\n",
        "number of times?"
      ],
      "metadata": {
        "id": "l3tFwxWEmxhI"
      }
    },
    {
      "cell_type": "code",
      "source": [
        "def bubble_sort(arr):\n",
        "    n = len(arr)\n",
        "    for i in range(n):\n",
        "        for j in range(0, n-i-1):\n",
        "            if arr[j] > arr[j+1]:\n",
        "                arr[j], arr[j+1] = arr[j+1], arr[j]\n",
        "\n",
        "def find_most_frequent_element(arr):\n",
        "    # Sort the array\n",
        "    bubble_sort(arr)\n",
        "\n",
        "    max_freq_element = arr[0]  # Initialize most frequent element\n",
        "    max_freq_count = 1  # Initialize maximum count\n",
        "    curr_freq_element = arr[0]  # Initialize current frequent element\n",
        "    curr_freq_count = 1  # Initialize current count\n",
        "\n",
        "    # Iterate through the sorted array with two pointers\n",
        "    for i in range(1, len(arr)):\n",
        "        # If current element is same as previous\n",
        "        if arr[i] == arr[i - 1]:\n",
        "            curr_freq_count += 1\n",
        "        else:\n",
        "            # Update max frequency element if needed\n",
        "            if curr_freq_count > max_freq_count:\n",
        "                max_freq_count = curr_freq_count\n",
        "                max_freq_element = curr_freq_element\n",
        "            curr_freq_element = arr[i]  # Update current frequency element\n",
        "            curr_freq_count = 1  # Reset current count for new element\n",
        "\n",
        "    # Check if the last element is the most frequent\n",
        "    if curr_freq_count > max_freq_count:\n",
        "        max_freq_count = curr_freq_count\n",
        "        max_freq_element = curr_freq_element\n",
        "\n",
        "    return max_freq_element\n",
        "\n",
        "# Example usage\n",
        "arr = [3, 2, 1, 3, 3]\n",
        "print(\"Element appearing maximum number of times:\", find_most_frequent_element(arr))\n"
      ],
      "metadata": {
        "colab": {
          "base_uri": "https://localhost:8080/"
        },
        "id": "vQpe6p_Tmv_D",
        "outputId": "ca1e62e4-2256-467e-cadb-147b2d503b2d"
      },
      "execution_count": null,
      "outputs": [
        {
          "output_type": "stream",
          "name": "stdout",
          "text": [
            "Element appearing maximum number of times: 3\n"
          ]
        }
      ]
    },
    {
      "cell_type": "markdown",
      "source": [
        "2 : We are given a list of n-1 integers and these integers are in the range of 1 to n . There are no\n",
        "duplicates in the list. One of the integers is missing in the list. Give an algorithm to find that element Ex:\n",
        "[1,2,4,6,3,7,8] 5 is the missing num."
      ],
      "metadata": {
        "id": "iuJ7VQPvnLo9"
      }
    },
    {
      "cell_type": "code",
      "source": [
        "#First Create a temp array temp[] of size n + 1 with all initial values as 0.\n",
        "#Then Traverse the input array arr[], and do following for each arr[i]\n",
        "   #if(temp[arr[i]] == 0) temp[arr[i]] = 1\n",
        "#Traverse temp[] and output the array element having value as 0 (This is the missing element).\n",
        "\n",
        "# Find Missing Element\n",
        "def findMissing(arr, N):\n",
        "\n",
        "    # create a list of zeroes\n",
        "    temp = [0] * (N+1)\n",
        "\n",
        "    for i in range(0, N):\n",
        "        temp[arr[i] - 1] = 1\n",
        "\n",
        "    for i in range(0, N+1):\n",
        "        if(temp[i] == 0):\n",
        "            ans = i + 1\n",
        "\n",
        "    print(ans)\n",
        "\n",
        "arr = [1,2,4,6,3,7,8]\n",
        "N = len(arr)\n",
        "\n",
        "# Function call\n",
        "findMissing(arr, N)"
      ],
      "metadata": {
        "colab": {
          "base_uri": "https://localhost:8080/"
        },
        "id": "fH1_VEwlnUCA",
        "outputId": "f53c935a-ef54-49c2-d583-0989b809b10a"
      },
      "execution_count": null,
      "outputs": [
        {
          "output_type": "stream",
          "name": "stdout",
          "text": [
            "5\n"
          ]
        }
      ]
    },
    {
      "cell_type": "markdown",
      "source": [
        "3 : Given an array of n positive numbers. All numbers occurs even number of times except 1 which\n",
        "occurs odd number of times. Find that number in O(n) time and O(1) space. Ex: [1,2,3,2,3,1,3]. 3 is repeats odd\n",
        "times."
      ],
      "metadata": {
        "id": "CTTxa41-nbPk"
      }
    },
    {
      "cell_type": "code",
      "source": [
        "def getOddOccurrence(arr, arr_size):\n",
        "\n",
        "    for i in range(0,arr_size):\n",
        "        count = 0\n",
        "        for j in range(0, arr_size):\n",
        "            if arr[i] == arr[j]:\n",
        "                count+=1\n",
        "\n",
        "        if (count % 2 != 0):\n",
        "            return arr[i]\n",
        "\n",
        "    return -1\n",
        "\n",
        "\n",
        "arr = [1,2,3,2,3,1,3]\n",
        "n = len(arr)\n",
        "print(getOddOccurrence(arr, n))"
      ],
      "metadata": {
        "colab": {
          "base_uri": "https://localhost:8080/"
        },
        "id": "11ALBD58neB1",
        "outputId": "6e3e13c9-ca2e-44da-9ea2-cdbe55af5197"
      },
      "execution_count": null,
      "outputs": [
        {
          "output_type": "stream",
          "name": "stdout",
          "text": [
            "3\n"
          ]
        }
      ]
    },
    {
      "cell_type": "markdown",
      "source": [
        "4 : Given an array of n elements. Find two elements in the array such that their sum is equal to given\n",
        "element K."
      ],
      "metadata": {
        "id": "_bjUMoW5oDrZ"
      }
    },
    {
      "cell_type": "code",
      "source": [
        "#First Traverse the array using a loop\n",
        "#For each element:\n",
        "#Check if there exists another in the array with sum as k\n",
        "#Return true if yes, else continue\n",
        "#If no such pair is found, return false.\n",
        "\n",
        "# This python program tells if there exists a pair in array whose sum results in k.\n",
        "\n",
        "# Function to find and print pair\n",
        "\n",
        "\n",
        "def chkPair(arr, size, k):\n",
        "    for i in range(0, size - 1):\n",
        "        for j in range(i + 1, size):\n",
        "            if (arr[i] + arr[j] == k):\n",
        "                return 1\n",
        "    return 0\n",
        "\n",
        "arr = [0, -1, 2, -3, 1]\n",
        "k = -2\n",
        "size = len(arr)\n",
        "\n",
        "#Input: arr[] = {0, -1, 2, -3, 1}, k= -2\n",
        "#Output: Yes\n",
        "#Explanation: If we calculate the sum of the output,1 + (-3) = -2\n",
        "\n",
        "if (chkPair(arr, size, k)):\n",
        "  print(\"Yes\")\n",
        "\n",
        "else:\n",
        "  print(\"No\")"
      ],
      "metadata": {
        "colab": {
          "base_uri": "https://localhost:8080/"
        },
        "id": "JwoezwVNoE5R",
        "outputId": "cbab0e72-f199-4dbe-f9de-48a63a378ea9"
      },
      "execution_count": null,
      "outputs": [
        {
          "output_type": "stream",
          "name": "stdout",
          "text": [
            "Yes\n"
          ]
        }
      ]
    },
    {
      "cell_type": "markdown",
      "source": [
        "5 : Given an array of both positive and negative numbers, find two numbers such that their sum is\n",
        "closest to 0. Ex: [ 1 ,60 ,-10, 70, -80,85]. Ans : -80,85."
      ],
      "metadata": {
        "id": "UCdi2i0cpG41"
      }
    },
    {
      "cell_type": "code",
      "source": [
        "def minAbsSumPair(arr,arr_size):\n",
        "\n",
        "\t# Array should have at least\n",
        "\t# two elements\n",
        "\tif arr_size < 2:\n",
        "\t\tprint(\"Invalid Input\")\n",
        "\t\treturn\n",
        "\n",
        "\t# Initialization of values\n",
        "\tmin_l = 0\n",
        "\tmin_r = 1\n",
        "\tmin_sum = arr[0] + arr[1]\n",
        "\tfor l in range (0, arr_size - 1):\n",
        "\t\tfor r in range (l + 1, arr_size):\n",
        "\t\t\tsum = arr[l] + arr[r]\n",
        "\t\t\tif abs(min_sum) > abs(sum):\n",
        "\t\t\t\tmin_sum = sum\n",
        "\t\t\t\tmin_l = l\n",
        "\t\t\t\tmin_r = r\n",
        "\n",
        "\tprint(\"The two elements whose sum is minimum are\",\n",
        "\t\t\tarr[min_l], \"and \", arr[min_r])\n",
        "\n",
        "\n",
        "arr = [1, 60, -10, 70, -80, 85]\n",
        "\n",
        "minAbsSumPair(arr, 6);"
      ],
      "metadata": {
        "colab": {
          "base_uri": "https://localhost:8080/"
        },
        "id": "PhB-u0-KpHoi",
        "outputId": "6a03c573-29c5-4a7b-8964-5252c79a80a5"
      },
      "execution_count": null,
      "outputs": [
        {
          "output_type": "stream",
          "name": "stdout",
          "text": [
            "The two elements whose sum is minimum are -80 and  85\n"
          ]
        }
      ]
    },
    {
      "cell_type": "markdown",
      "source": [
        "6 : Given an array of n elements . Find three elements such that their sum is equal to the given\n",
        "number."
      ],
      "metadata": {
        "id": "JOqEJL25qDT7"
      }
    },
    {
      "cell_type": "code",
      "source": [
        "#This function iterates through the array and, for each element arr[i], uses a two-pointer approach to find two other elements whose sum is equal to target - arr[i].\n",
        "#If such a pair is found, it returns the three elements forming the triplet.\n",
        "#If no such triplet is found, it returns None.\n",
        "\n",
        "def find_three_elements(arr, target):\n",
        "    n = len(arr)\n",
        "    arr.sort()  # Sort the array for efficient searching\n",
        "\n",
        "    for i in range(n - 2):\n",
        "        left = i + 1\n",
        "        right = n - 1\n",
        "\n",
        "        while left < right:\n",
        "            current_sum = arr[i] + arr[left] + arr[right]\n",
        "\n",
        "            if current_sum == target:\n",
        "                return arr[i], arr[left], arr[right]\n",
        "            elif current_sum < target:\n",
        "                left += 1\n",
        "            else:\n",
        "                right -= 1\n",
        "\n",
        "    return None  # Return None if no such triplet is found\n",
        "\n",
        "# Example usage\n",
        "arr = [1, 4, 45, 6, 10, 8]\n",
        "target = 22\n",
        "result = find_three_elements(arr, target)\n",
        "if result:\n",
        "    print(\"Three elements with sum\", target, \"are:\", result)\n",
        "else:\n",
        "    print(\"No such triplet found\")\n"
      ],
      "metadata": {
        "colab": {
          "base_uri": "https://localhost:8080/"
        },
        "id": "Ht8bEDyKqDt-",
        "outputId": "32a38cbf-e6a0-45bb-bb8b-cead84d951ee"
      },
      "execution_count": null,
      "outputs": [
        {
          "output_type": "stream",
          "name": "stdout",
          "text": [
            "Three elements with sum 22 are: (4, 8, 10)\n"
          ]
        }
      ]
    },
    {
      "cell_type": "markdown",
      "source": [
        "7 : Given an array of n elements . Find three elements i, j, k in the array such that\n",
        "i * i + j * j = k*k."
      ],
      "metadata": {
        "id": "wGeNclr2qbbB"
      }
    },
    {
      "cell_type": "code",
      "source": [
        "def bubble_sort(arr):\n",
        "    n = len(arr)\n",
        "    for i in range(n):\n",
        "        for j in range(0, n-i-1):\n",
        "            if arr[j] > arr[j+1]:\n",
        "                arr[j], arr[j+1] = arr[j+1], arr[j]\n",
        "\n",
        "def find_pythagorean_triplet(arr):\n",
        "    n = len(arr)\n",
        "    bubble_sort(arr)  # Sort the array using bubble sort\n",
        "\n",
        "    for k in range(n - 1, 1, -1):\n",
        "        i = 0\n",
        "        j = k - 1\n",
        "        while i < j:\n",
        "            sum_of_squares = arr[i] * arr[i] + arr[j] * arr[j]\n",
        "            if sum_of_squares == arr[k] * arr[k]:\n",
        "                return arr[i], arr[j], arr[k]\n",
        "            elif sum_of_squares < arr[k] * arr[k]:\n",
        "                i += 1\n",
        "            else:\n",
        "                j -= 1\n",
        "\n",
        "    return None  # Return None if no such triplet is found\n",
        "\n",
        "# Example usage\n",
        "arr = [3, 1, 4, 6, 5]\n",
        "result = find_pythagorean_triplet(arr)\n",
        "if result:\n",
        "    print(\"Pythagorean triplet found:\", result)\n",
        "else:\n",
        "    print(\"No such triplet found\")\n"
      ],
      "metadata": {
        "colab": {
          "base_uri": "https://localhost:8080/"
        },
        "id": "OxP_ECG4qb4X",
        "outputId": "8c02a267-09d7-41ae-bd88-77750b55fe5f"
      },
      "execution_count": null,
      "outputs": [
        {
          "output_type": "stream",
          "name": "stdout",
          "text": [
            "Pythagorean triplet found: (3, 4, 5)\n"
          ]
        }
      ]
    },
    {
      "cell_type": "markdown",
      "source": [
        "8 : An element is a majority if it appears more than n/2 times. Give an algorithm takes an array of n\n",
        "element as argument and identifies a majority (if it exists)."
      ],
      "metadata": {
        "id": "fGF9EmX_qpbG"
      }
    },
    {
      "cell_type": "code",
      "source": [
        "#The basic solution is to have two loops and keep track of the maximum count for all different elements.\n",
        "#If the maximum count becomes greater than n/2 then break the loops and return the element having the maximum count.\n",
        "#If the maximum count doesn’t become more than n/2 then the majority element doesn’t exist.\n",
        "\n",
        "#Follow the steps below to solve the given problem:\n",
        "#Create a variable to store the max count, count = 0\n",
        "#Traverse through the array from start to end.\n",
        "#For every element in the array run another loop to find the count of similar elements in the given array.\n",
        "#If the count is greater than the max count update the max count and store the index in another variable.\n",
        "#If the maximum count is greater than half the size of the array, print the element. Else print there is no majority element.\n",
        "\n",
        "# Python3 program to find Majority\n",
        "# element in an array\n",
        "\n",
        "# Function to find Majority\n",
        "# element in an array\n",
        "\n",
        "\n",
        "def findMajority(arr, n):\n",
        "\n",
        "\tmaxCount = 0\n",
        "\tindex = -1 # sentinels\n",
        "\tfor i in range(n):\n",
        "\n",
        "\t\tcount = 1\n",
        "\t\t# here we compare the element in\n",
        "\t\t# ith position with i+1th position\n",
        "\t\tfor j in range(i+1, n):\n",
        "\n",
        "\t\t\tif(arr[i] == arr[j]):\n",
        "\t\t\t\tcount += 1\n",
        "\n",
        "\t\t# update maxCount if count of\n",
        "\t\t# current element is greater\n",
        "\t\tif(count > maxCount):\n",
        "\n",
        "\t\t\tmaxCount = count\n",
        "\t\t\tindex = i\n",
        "\n",
        "\t# if maxCount is greater than n/2\n",
        "\t# return the corresponding element\n",
        "\tif (maxCount > n//2):\n",
        "\t\tprint(arr[index])\n",
        "\n",
        "\telse:\n",
        "\t\tprint(\"No Majority Element\")\n",
        "\n",
        "\n",
        "\n",
        "arr = [1, 1, 2, 1, 3, 5, 1]\n",
        "n = len(arr)\n",
        "\n",
        "\t# Function calling\n",
        "findMajority(arr, n)"
      ],
      "metadata": {
        "colab": {
          "base_uri": "https://localhost:8080/"
        },
        "id": "1eCct88Yqp4U",
        "outputId": "3ba2b8fe-6978-494b-90bc-e95b0bc3e54d"
      },
      "execution_count": null,
      "outputs": [
        {
          "output_type": "stream",
          "name": "stdout",
          "text": [
            "1\n"
          ]
        }
      ]
    },
    {
      "cell_type": "markdown",
      "source": [
        "9 : Given n × n matrix, and in each row all 1’s are followed by 0’s. Find the row with the maximum\n",
        "number of 0’s."
      ],
      "metadata": {
        "id": "SMS7K5hjrELv"
      }
    },
    {
      "cell_type": "code",
      "source": [
        "# Python implementation of the approach\n",
        "R,C = 4,4\n",
        "\n",
        "# Function to find the index of first index\n",
        "# of 1 in a boolean array arr\n",
        "def first(arr , low , high):\n",
        "\n",
        "\tif(high >= low):\n",
        "\n",
        "\t\t# Get the middle index\n",
        "\t\tmid = low + (high - low)//2\n",
        "\n",
        "\t\t# Check if the element at middle index is first 1\n",
        "\t\tif ( ( mid == 0 or arr[mid-1] == 1) and arr[mid] == 0):\n",
        "\t\t\treturn mid\n",
        "\n",
        "\t\t# If the element is 1, recur for left side\n",
        "\t\telif (arr[mid] == 1):\n",
        "\t\t\treturn first(arr, (mid + 1), high);\n",
        "\n",
        "\t\t# If element is not first 0, recur for right side\n",
        "\t\telse:\n",
        "\t\t\treturn first(arr, low, (mid -1));\n",
        "\n",
        "\treturn -1\n",
        "\n",
        "# Function that returns index of row\n",
        "# with maximum number of 1s.\n",
        "def rowWithMax0s(mat):\n",
        "\n",
        "\t# Initialize max values\n",
        "\tmax_row_index,Max = 0,-1\n",
        "\n",
        "\t# Traverse for each row and count number of 1s\n",
        "\t# by finding the index of first 1\n",
        "\tfor i in range(R):\n",
        "\n",
        "\t\tindex = first (mat[i], 0, C-1)\n",
        "\t\tif (index != -1 and index > Max):\n",
        "\t\t\tMax = index;\n",
        "\t\t\tmax_row_index = i\n",
        "\n",
        "\treturn max_row_index\n",
        "\n",
        "# Driver Code\n",
        "mat = [[0, 0, 0, 1],\n",
        "\t[0, 1, 1, 1],\n",
        "\t[1, 1, 1, 1],\n",
        "\t[0, 0, 0, 0]]\n",
        "print(\"Index of row with maximum 0s is \" + str(rowWithMax0s(mat)))\n"
      ],
      "metadata": {
        "colab": {
          "base_uri": "https://localhost:8080/"
        },
        "id": "OMr46wBNrEpB",
        "outputId": "d7698317-8e43-459c-c6af-52acc2c44658"
      },
      "execution_count": null,
      "outputs": [
        {
          "output_type": "stream",
          "name": "stdout",
          "text": [
            "Index of row with maximum 0s is 0\n"
          ]
        }
      ]
    },
    {
      "cell_type": "markdown",
      "source": [
        "10 : Sort an array of 0’s, 1’s and 2’s [or R’s, G’s and B’s]: Given an array A[] consisting of 0’s, 1’s and\n",
        "2’s, give an algorithm for sorting A[].The algorithm should put all 0’s first, then all 1’s and finally all 2’s at the\n",
        "end. Example Input = {0,1,1,0,1,2,1,2,0,0,0,1}, Output = {0,0,0,0,0,1,1,1,1,1,2,2}"
      ],
      "metadata": {
        "id": "1wpLRFGgrS6K"
      }
    },
    {
      "cell_type": "code",
      "source": [
        "#The problem is similar to “Segregate 0s and 1s in an array”.\n",
        "#The problem was posed with three colors, here `0′, `1′ and `2′. The array is divided into four sections:\n",
        "#arr[1] to arr[low – 1]\n",
        "#arr[low] to arr[mid – 1]\n",
        "#arr[mid] to arr[high – 1]\n",
        "#arr[high] to arr[n]\n",
        "#If the ith element is 0 then swap the element to the low range.\n",
        "#Similarly, if the element is 1 then keep it as it is.\n",
        "#If the element is 2 then swap it with an element in high range.\n",
        "\n",
        "# Python program to sort an array with\n",
        "# 0, 1 and 2 in a single pass\n",
        "\n",
        "# Function to sort array\n",
        "\n",
        "\n",
        "def sort012(a, arr_size):\n",
        "\tlo = 0\n",
        "\thi = arr_size - 1\n",
        "\tmid = 0\n",
        "\t# Iterate till all the elements\n",
        "\t# are sorted\n",
        "\twhile mid <= hi:\n",
        "\t\t# If the element is 0\n",
        "\t\tif a[mid] == 0:\n",
        "\t\t\ta[lo], a[mid] = a[mid], a[lo]\n",
        "\t\t\tlo = lo + 1\n",
        "\t\t\tmid = mid + 1\n",
        "\t\t# If the element is 1\n",
        "\t\telif a[mid] == 1:\n",
        "\t\t\tmid = mid + 1\n",
        "\t\t# If the element is 2\n",
        "\t\telse:\n",
        "\t\t\ta[mid], a[hi] = a[hi], a[mid]\n",
        "\t\t\thi = hi - 1\n",
        "\treturn a\n",
        "\n",
        "# Function to print array\n",
        "\n",
        "\n",
        "def printArray(a):\n",
        "\tfor k in a:\n",
        "\t\tprint(k, end=' ')\n",
        "\n",
        "\n",
        "arr = [0,1,1,0,1,2,1,2,0,0,0,1]\n",
        "arr_size = len(arr)\n",
        "arr = sort012(arr, arr_size)\n",
        "printArray(arr)"
      ],
      "metadata": {
        "colab": {
          "base_uri": "https://localhost:8080/"
        },
        "id": "QS0H0dgsrTUf",
        "outputId": "161e7af8-0890-4234-a149-9d2227ee854d"
      },
      "execution_count": null,
      "outputs": [
        {
          "output_type": "stream",
          "name": "stdout",
          "text": [
            "0 0 0 0 0 1 1 1 1 1 2 2 "
          ]
        }
      ]
    }
  ]
}