{
  "nbformat": 4,
  "nbformat_minor": 0,
  "metadata": {
    "colab": {
      "provenance": []
    },
    "kernelspec": {
      "name": "python3",
      "display_name": "Python 3"
    },
    "language_info": {
      "name": "python"
    }
  },
  "cells": [
    {
      "cell_type": "markdown",
      "source": [
        "# Recursion Assignment\n",
        "\n",
        "## Question 1: Tower of Hanoi"
      ],
      "metadata": {
        "id": "sGmrUPAq0y6w"
      }
    },
    {
      "cell_type": "code",
      "execution_count": 1,
      "metadata": {
        "colab": {
          "base_uri": "https://localhost:8080/"
        },
        "id": "BYMzLzYD0D9B",
        "outputId": "5075cc83-8572-44e1-a486-098c06d4a154"
      },
      "outputs": [
        {
          "output_type": "stream",
          "name": "stdout",
          "text": [
            "Move disk 1 from rod A to rod C\n",
            "Move disk 2 from rod A to rod B\n",
            "Move disk 1 from rod C to rod B\n",
            "Move disk 3 from rod A to rod C\n",
            "Move disk 1 from rod B to rod A\n",
            "Move disk 2 from rod B to rod C\n",
            "Move disk 1 from rod A to rod C\n"
          ]
        }
      ],
      "source": [
        "def tower_of_hanoi(n, source, auxiliary, destination):\n",
        "    if n == 1:\n",
        "        print(f\"Move disk 1 from rod {source} to rod {destination}\")\n",
        "        return\n",
        "    tower_of_hanoi(n - 1, source, destination, auxiliary)\n",
        "    print(f\"Move disk {n} from rod {source} to rod {destination}\")\n",
        "    tower_of_hanoi(n - 1, auxiliary, source, destination)\n",
        "\n",
        "# Test the function\n",
        "n = 3\n",
        "tower_of_hanoi(n, 'A', 'B', 'C')\n"
      ]
    },
    {
      "cell_type": "markdown",
      "source": [
        "## Question 2: Minimum Edit Distance"
      ],
      "metadata": {
        "id": "DyewqiEp0342"
      }
    },
    {
      "cell_type": "code",
      "source": [
        "def min_edit_distance(word1, word2):\n",
        "    m, n = len(word1), len(word2)\n",
        "    dp = [[0] * (n + 1) for _ in range(m + 1)]\n",
        "    for i in range(m + 1):\n",
        "        dp[i][0] = i\n",
        "    for j in range(n + 1):\n",
        "        dp[0][j] = j\n",
        "    for i in range(1, m + 1):\n",
        "        for j in range(1, n + 1):\n",
        "            if word1[i - 1] == word2[j - 1]:\n",
        "                dp[i][j] = dp[i - 1][j - 1]\n",
        "            else:\n",
        "                dp[i][j] = 1 + min(dp[i - 1][j], dp[i][j - 1], dp[i - 1][j - 1])\n",
        "    return dp[m][n]\n",
        "\n",
        "# Test the function\n",
        "word1 = \"horse\"\n",
        "word2 = \"ros\"\n",
        "print(min_edit_distance(word1, word2))  # Output: 3\n",
        "\n",
        "word1 = \"intention\"\n",
        "word2 = \"execution\"\n",
        "print(min_edit_distance(word1, word2))  # Output: 5\n"
      ],
      "metadata": {
        "colab": {
          "base_uri": "https://localhost:8080/"
        },
        "id": "wjEr_w4i04XG",
        "outputId": "2dd2808f-6d6f-47cc-ae0e-dc160c3a6747"
      },
      "execution_count": 2,
      "outputs": [
        {
          "output_type": "stream",
          "name": "stdout",
          "text": [
            "3\n",
            "5\n"
          ]
        }
      ]
    },
    {
      "cell_type": "markdown",
      "source": [
        "## Question 3: Find Max Value in an Array"
      ],
      "metadata": {
        "id": "YHp7HVBw04yn"
      }
    },
    {
      "cell_type": "code",
      "source": [
        "def find_max_value(arr):\n",
        "    max_value = arr[0]\n",
        "    for num in arr:\n",
        "        if num > max_value:\n",
        "            max_value = num\n",
        "    return max_value\n",
        "\n",
        "# Test the function\n",
        "arr = [13, 1, -3, 22, 5]\n",
        "print(find_max_value(arr))  # Output: 22\n"
      ],
      "metadata": {
        "colab": {
          "base_uri": "https://localhost:8080/"
        },
        "id": "6GsQYrKx05H-",
        "outputId": "7ce3a076-8e50-4df6-b020-2d9a2d901dfb"
      },
      "execution_count": 3,
      "outputs": [
        {
          "output_type": "stream",
          "name": "stdout",
          "text": [
            "22\n"
          ]
        }
      ]
    },
    {
      "cell_type": "markdown",
      "source": [
        "## Question 4: Find Sum of Values in an Array"
      ],
      "metadata": {
        "id": "zJTiUYEH05hV"
      }
    },
    {
      "cell_type": "code",
      "source": [
        "def find_sum(arr):\n",
        "    total = 0\n",
        "    for num in arr:\n",
        "        total += num\n",
        "    return total\n",
        "\n",
        "# Test the function\n",
        "arr = [92, 23, 15, -20, 10]\n",
        "print(find_sum(arr))  # Output: 120\n"
      ],
      "metadata": {
        "colab": {
          "base_uri": "https://localhost:8080/"
        },
        "id": "sSPjj1Qx05yW",
        "outputId": "8cf70b72-531e-4f7a-d878-1c4a8a25c645"
      },
      "execution_count": 4,
      "outputs": [
        {
          "output_type": "stream",
          "name": "stdout",
          "text": [
            "120\n"
          ]
        }
      ]
    },
    {
      "cell_type": "markdown",
      "source": [
        "## Question 5: Check if a Number is an Armstrong Number"
      ],
      "metadata": {
        "id": "-PYc6XCh06GY"
      }
    },
    {
      "cell_type": "code",
      "source": [
        "def is_armstrong_number(n):\n",
        "    num_str = str(n)\n",
        "    num_digits = len(num_str)\n",
        "    sum_of_powers = sum(int(digit) ** num_digits for digit in num_str)\n",
        "    return sum_of_powers == n\n",
        "\n",
        "# Test the function\n",
        "print(is_armstrong_number(153))  # Output: True\n",
        "print(is_armstrong_number(134))  # Output: False\n"
      ],
      "metadata": {
        "colab": {
          "base_uri": "https://localhost:8080/"
        },
        "id": "BLri1wZ406ZE",
        "outputId": "4912f777-b23a-4683-ce59-725afe200df3"
      },
      "execution_count": 5,
      "outputs": [
        {
          "output_type": "stream",
          "name": "stdout",
          "text": [
            "True\n",
            "False\n"
          ]
        }
      ]
    }
  ]
}