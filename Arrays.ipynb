{
  "nbformat": 4,
  "nbformat_minor": 0,
  "metadata": {
    "colab": {
      "provenance": []
    },
    "kernelspec": {
      "name": "python3",
      "display_name": "Python 3"
    },
    "language_info": {
      "name": "python"
    }
  },
  "cells": [
    {
      "cell_type": "markdown",
      "source": [
        "# Arrays Assignment\n",
        "\n",
        "## Question 1: Check if an array contains any duplicates."
      ],
      "metadata": {
        "id": "Vu6KWu-9wGM9"
      }
    },
    {
      "cell_type": "code",
      "execution_count": 2,
      "metadata": {
        "colab": {
          "base_uri": "https://localhost:8080/"
        },
        "id": "JgdPQGw1vVNO",
        "outputId": "a24ba584-a66e-4e13-e70d-50a6794150ce"
      },
      "outputs": [
        {
          "output_type": "stream",
          "name": "stdout",
          "text": [
            "True\n"
          ]
        }
      ],
      "source": [
        "def contains_duplicates(arr):\n",
        "    return len(arr) != len(set(arr))\n",
        "\n",
        "# Test the function\n",
        "arr = [1, 2, 4, 2, 5, 9]\n",
        "print(contains_duplicates(arr))  # Output: True\n"
      ]
    },
    {
      "cell_type": "markdown",
      "source": [
        "## Question 2: Rotate the array to the right by `k` steps."
      ],
      "metadata": {
        "id": "m_t2iIUgwTYi"
      }
    },
    {
      "cell_type": "code",
      "source": [
        "def rotate_array(arr, k):\n",
        "    n = len(arr)\n",
        "    k = k % n  # Handle cases where k > n\n",
        "    return arr[-k:] + arr[:-k]\n",
        "\n",
        "# Test the function\n",
        "arr = [1, 2, 3, 4, 5, 6, 7]\n",
        "k = 3\n",
        "print(rotate_array(arr, k))  # Output: [5, 6, 7, 1, 2, 3, 4]\n"
      ],
      "metadata": {
        "colab": {
          "base_uri": "https://localhost:8080/"
        },
        "id": "ZlbEpfZcwTwK",
        "outputId": "df9317fe-d363-4649-925c-05f0e2337a07"
      },
      "execution_count": 3,
      "outputs": [
        {
          "output_type": "stream",
          "name": "stdout",
          "text": [
            "[5, 6, 7, 1, 2, 3, 4]\n"
          ]
        }
      ]
    },
    {
      "cell_type": "markdown",
      "source": [
        "## Question 3: Reverse the given array in-place."
      ],
      "metadata": {
        "id": "zj2b0X24wYh7"
      }
    },
    {
      "cell_type": "code",
      "source": [
        "def reverse_array(arr):\n",
        "    left, right = 0, len(arr) - 1\n",
        "    while left < right:\n",
        "        arr[left], arr[right] = arr[right], arr[left]\n",
        "        left += 1\n",
        "        right -= 1\n",
        "    return arr\n",
        "\n",
        "# Test the function\n",
        "arr = [2, 4, 5, 7, 9, 12]\n",
        "print(reverse_array(arr))  # Output: [12, 9, 7, 5, 4, 2]\n"
      ],
      "metadata": {
        "colab": {
          "base_uri": "https://localhost:8080/"
        },
        "id": "-eh5yxDNwY-a",
        "outputId": "7c5b82ad-9f30-4802-ae8f-e820dbc80fd3"
      },
      "execution_count": 4,
      "outputs": [
        {
          "output_type": "stream",
          "name": "stdout",
          "text": [
            "[12, 9, 7, 5, 4, 2]\n"
          ]
        }
      ]
    },
    {
      "cell_type": "markdown",
      "source": [
        "## Question 4: Find the maximum element in an array."
      ],
      "metadata": {
        "id": "9Zu8GiAByICg"
      }
    },
    {
      "cell_type": "code",
      "source": [
        "def find_max_element(arr):\n",
        "    max_element = arr[0]\n",
        "    for num in arr:\n",
        "        if num > max_element:\n",
        "            max_element = num\n",
        "    return max_element\n",
        "\n",
        "# Test the function\n",
        "arr = [10, 5, 20, 8, 15]\n",
        "print(find_max_element(arr))  # Output: 20\n"
      ],
      "metadata": {
        "id": "CGtEuAiGyIbZ"
      },
      "execution_count": null,
      "outputs": []
    },
    {
      "cell_type": "markdown",
      "source": [
        "## Question 5: Remove duplicates from a sorted array without using any extra data structure."
      ],
      "metadata": {
        "id": "dfBpfwdHyQQY"
      }
    },
    {
      "cell_type": "code",
      "source": [
        "def remove_duplicates(arr):\n",
        "    if not arr:\n",
        "        return arr\n",
        "\n",
        "    write_index = 1\n",
        "    for read_index in range(1, len(arr)):\n",
        "        if arr[read_index] != arr[read_index - 1]:\n",
        "            arr[write_index] = arr[read_index]\n",
        "            write_index += 1\n",
        "    return arr[:write_index]\n",
        "\n",
        "# Test the function\n",
        "arr = [1, 1, 2, 2, 2, 3, 3, 4, 4, 4, 5, 5]\n",
        "print(remove_duplicates(arr))  # Output: [1, 2, 3, 4, 5]\n"
      ],
      "metadata": {
        "colab": {
          "base_uri": "https://localhost:8080/"
        },
        "id": "hF3eQ9iDyQpX",
        "outputId": "0377137a-d4e3-4d41-f0d6-285ce9e45c54"
      },
      "execution_count": 7,
      "outputs": [
        {
          "output_type": "stream",
          "name": "stdout",
          "text": [
            "[1, 2, 3, 4, 5]\n"
          ]
        }
      ]
    }
  ]
}