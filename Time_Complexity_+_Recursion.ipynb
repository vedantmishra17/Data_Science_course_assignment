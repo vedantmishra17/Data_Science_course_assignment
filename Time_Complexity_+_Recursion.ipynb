{
  "nbformat": 4,
  "nbformat_minor": 0,
  "metadata": {
    "colab": {
      "provenance": []
    },
    "kernelspec": {
      "name": "python3",
      "display_name": "Python 3"
    },
    "language_info": {
      "name": "python"
    }
  },
  "cells": [
    {
      "cell_type": "markdown",
      "source": [
        "# Problem 1: Time Complexity of Quicksort\n",
        "The quicksort algorithm provided is a typical implementation of the quicksort algorithm using list comprehensions. The time complexity of quicksort in the average case is O(nlog n), where n is the number of elements in the array. However, in the worst case (e.g., when the pivot is always the smallest or largest element), the time complexity can degrade to O(n2)."
      ],
      "metadata": {
        "id": "foStBCb-kLEI"
      }
    },
    {
      "cell_type": "markdown",
      "source": [
        "# Problem 2: Time Complexity of Nested Loop Example\n",
        "\n",
        "The nested loop example iterates over each element of a 2D matrix. If the matrix has m rows and\n",
        "n columns, the time complexity is O(m×n)."
      ],
      "metadata": {
        "id": "kjjvp9GzklTO"
      }
    },
    {
      "cell_type": "markdown",
      "source": [
        "# Problem 3: Time Complexity of Sum Function\n",
        "The function iterates over each element of the array once. If the array has n elements, the time complexity is O(n)."
      ],
      "metadata": {
        "id": "cQ-qKRjwklLU"
      }
    },
    {
      "cell_type": "markdown",
      "source": [
        "# Problem 4: Time Complexity of Longest Increasing Subsequence\n",
        "The function uses two nested loops to compute the longest increasing subsequence.\n",
        " If the input list has n elements, the time complexity is O(n2)."
      ],
      "metadata": {
        "id": "LR_WS0NVklC2"
      }
    },
    {
      "cell_type": "markdown",
      "source": [
        "# Problem 5: Time Complexity of Mysterious Function\n",
        "The function has two nested loops where the inner loop runs from i to n. The time complexity is O(n2)."
      ],
      "metadata": {
        "id": "5jo9GtC9l78X"
      }
    },
    {
      "cell_type": "markdown",
      "source": [
        "# Problem 6: Sum of Digits (Recursive Function)"
      ],
      "metadata": {
        "id": "ZZzFCjm0mMOE"
      }
    },
    {
      "cell_type": "code",
      "execution_count": 1,
      "metadata": {
        "id": "lrMzWFoQkKLc",
        "colab": {
          "base_uri": "https://localhost:8080/"
        },
        "outputId": "53a2b661-7e5b-4b75-8305-f173b6f9cabf"
      },
      "outputs": [
        {
          "output_type": "stream",
          "name": "stdout",
          "text": [
            "5\n"
          ]
        }
      ],
      "source": [
        "def sum_of_digits(n):\n",
        "    if n == 0:\n",
        "        return 0\n",
        "    else:\n",
        "        return n % 10 + sum_of_digits(n // 10)\n",
        "\n",
        "# Example usage\n",
        "print(sum_of_digits(23))  # Output: 5\n"
      ]
    },
    {
      "cell_type": "markdown",
      "source": [
        "# Problem 7: Fibonacci Series (Recursive Function)"
      ],
      "metadata": {
        "id": "ivPskOkHmO82"
      }
    },
    {
      "cell_type": "code",
      "source": [
        "def fibonacci_series(n):\n",
        "    if n <= 0:\n",
        "        return []\n",
        "    elif n == 1:\n",
        "        return [0]\n",
        "    elif n == 2:\n",
        "        return [0, 1]\n",
        "    else:\n",
        "        seq = fibonacci_series(n - 1)\n",
        "        seq.append(seq[-1] + seq[-2])\n",
        "        return seq\n",
        "\n",
        "# Example usage\n",
        "print(fibonacci_series(6))  # Output: [0, 1, 1, 2, 3, 5]\n"
      ],
      "metadata": {
        "colab": {
          "base_uri": "https://localhost:8080/"
        },
        "id": "UBgY3ItOmPQJ",
        "outputId": "c40cf196-5465-4538-8773-083aaf2a0bec"
      },
      "execution_count": 2,
      "outputs": [
        {
          "output_type": "stream",
          "name": "stdout",
          "text": [
            "[0, 1, 1, 2, 3, 5]\n"
          ]
        }
      ]
    },
    {
      "cell_type": "markdown",
      "source": [
        "# Problem 8: Subset Sum (Recursive Function)"
      ],
      "metadata": {
        "id": "j43y3o1BmZZs"
      }
    },
    {
      "cell_type": "code",
      "source": [
        "def subset_sum(arr, target):\n",
        "    if target == 0:\n",
        "        return True\n",
        "    if not arr:\n",
        "        return False\n",
        "    return subset_sum(arr[1:], target - arr[0]) or subset_sum(arr[1:], target)\n",
        "\n",
        "# Example usage\n",
        "print(subset_sum([3, 34, 4, 12, 5, 2], 9))  # Output: True\n"
      ],
      "metadata": {
        "colab": {
          "base_uri": "https://localhost:8080/"
        },
        "id": "WJ7efkXcma3l",
        "outputId": "d1e41b8d-7caf-451d-c2fb-0c5dad59345b"
      },
      "execution_count": 3,
      "outputs": [
        {
          "output_type": "stream",
          "name": "stdout",
          "text": [
            "True\n"
          ]
        }
      ]
    },
    {
      "cell_type": "markdown",
      "source": [
        "# Problem 9: Word Break (Recursive Function)"
      ],
      "metadata": {
        "id": "K7M02qLkmdij"
      }
    },
    {
      "cell_type": "code",
      "source": [
        "def word_break(s, word_dict):\n",
        "    if not s:\n",
        "        return True\n",
        "    for word in word_dict:\n",
        "        if s.startswith(word):\n",
        "            if word_break(s[len(word):], word_dict):\n",
        "                return True\n",
        "    return False\n",
        "\n",
        "# Example usage\n",
        "print(word_break('leetcode', ['leet', 'code']))  # Output: True\n"
      ],
      "metadata": {
        "colab": {
          "base_uri": "https://localhost:8080/"
        },
        "id": "2wNnlv8rme-8",
        "outputId": "8e83614e-c752-407b-abe4-e26466866f8a"
      },
      "execution_count": 4,
      "outputs": [
        {
          "output_type": "stream",
          "name": "stdout",
          "text": [
            "True\n"
          ]
        }
      ]
    },
    {
      "cell_type": "markdown",
      "source": [
        "# Problem 10: N-Queens (Recursive Function)"
      ],
      "metadata": {
        "id": "v0nKfQN_mja7"
      }
    },
    {
      "cell_type": "code",
      "source": [
        "def solve_n_queens(n):\n",
        "    def solve(state, row):\n",
        "        if row == n:\n",
        "            solution.append(state[:])\n",
        "            return\n",
        "        for col in range(n):\n",
        "            if all(abs(c - col) not in (r - row, 0) for r, c in enumerate(state[:row])):\n",
        "                state[row] = col\n",
        "                solve(state, row + 1)\n",
        "\n",
        "    solution = []\n",
        "    solve([None] * n, 0)\n",
        "    return solution\n",
        "\n",
        "def print_board(board):\n",
        "    return [\n",
        "        \"\".join(\"Q.\"[col != i] for i in range(len(board)))\n",
        "        for col in board\n",
        "    ]\n",
        "\n",
        "# Example usage\n",
        "solutions = solve_n_queens(4)\n",
        "for solution in solutions:\n",
        "    print(print_board(solution))"
      ],
      "metadata": {
        "colab": {
          "base_uri": "https://localhost:8080/"
        },
        "id": "zJ8LN-qOmk9X",
        "outputId": "35f8f114-3cee-4850-d1e1-62f56a3e5c1b"
      },
      "execution_count": 5,
      "outputs": [
        {
          "output_type": "stream",
          "name": "stdout",
          "text": [
            "['Q...', '.Q..', '..Q.', '...Q']\n",
            "['Q...', '.Q..', '...Q', '..Q.']\n",
            "['Q...', '..Q.', '.Q..', '...Q']\n",
            "['Q...', '..Q.', '...Q', '.Q..']\n",
            "['Q...', '...Q', '.Q..', '..Q.']\n",
            "['Q...', '...Q', '..Q.', '.Q..']\n",
            "['.Q..', 'Q...', '..Q.', '...Q']\n",
            "['.Q..', 'Q...', '...Q', '..Q.']\n",
            "['.Q..', '..Q.', 'Q...', '...Q']\n",
            "['.Q..', '..Q.', '...Q', 'Q...']\n",
            "['.Q..', '...Q', 'Q...', '..Q.']\n",
            "['.Q..', '...Q', '..Q.', 'Q...']\n",
            "['..Q.', 'Q...', '.Q..', '...Q']\n",
            "['..Q.', 'Q...', '...Q', '.Q..']\n",
            "['..Q.', '.Q..', 'Q...', '...Q']\n",
            "['..Q.', '.Q..', '...Q', 'Q...']\n",
            "['..Q.', '...Q', 'Q...', '.Q..']\n",
            "['..Q.', '...Q', '.Q..', 'Q...']\n",
            "['...Q', 'Q...', '.Q..', '..Q.']\n",
            "['...Q', 'Q...', '..Q.', '.Q..']\n",
            "['...Q', '.Q..', 'Q...', '..Q.']\n",
            "['...Q', '.Q..', '..Q.', 'Q...']\n",
            "['...Q', '..Q.', 'Q...', '.Q..']\n",
            "['...Q', '..Q.', '.Q..', 'Q...']\n"
          ]
        }
      ]
    }
  ]
}