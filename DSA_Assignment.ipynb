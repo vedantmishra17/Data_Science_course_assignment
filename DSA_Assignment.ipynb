{
  "nbformat": 4,
  "nbformat_minor": 0,
  "metadata": {
    "colab": {
      "provenance": []
    },
    "kernelspec": {
      "name": "python3",
      "display_name": "Python 3"
    },
    "language_info": {
      "name": "python"
    }
  },
  "cells": [
    {
      "cell_type": "markdown",
      "source": [
        "Problem 1: Reverse a singly linked list.\n",
        "\n",
        "Input: 1 -> 2 -> 3 -> 4 -> 5\n",
        "Output: 5 -> 4 -> 3 -> 2 -> 1"
      ],
      "metadata": {
        "id": "clpkkzshNRUj"
      }
    },
    {
      "cell_type": "code",
      "execution_count": null,
      "metadata": {
        "colab": {
          "base_uri": "https://localhost:8080/"
        },
        "id": "L-eKRTOPbRqm",
        "outputId": "6fc9ebcf-7671-4b2a-ef75-78a9bf3f4171"
      },
      "outputs": [
        {
          "output_type": "stream",
          "name": "stdout",
          "text": [
            "Original linked list:\n",
            "1->2->3->4->5->None\n",
            "Reversed linked list:\n",
            "5->4->3->2->1->None\n"
          ]
        }
      ],
      "source": [
        "class Node:\n",
        "    def __init__(self, data=None, next=None):\n",
        "        self.data = data\n",
        "        self.next = next\n",
        "\n",
        "    def setData(self, data):\n",
        "        self.data = data\n",
        "\n",
        "    def getData(self):\n",
        "        return self.data\n",
        "\n",
        "    def setNext(self, next):\n",
        "        self.next = next\n",
        "\n",
        "    def getNext(self):\n",
        "        return self.next\n",
        "\n",
        "def traverse(head):\n",
        "    temp = head\n",
        "    while temp:\n",
        "        print(temp.getData(), end=\"->\")\n",
        "        temp = temp.getNext()  # jump to the next node\n",
        "    print(\"None\")\n",
        "\n",
        "def reverse(head):\n",
        "    prev = None\n",
        "    current = head\n",
        "    while current is not None:\n",
        "        next_node = current.next\n",
        "        current.next = prev\n",
        "        prev = current\n",
        "        current = next_node\n",
        "    return prev  # New head of the reversed list\n",
        "\n",
        "head = Node(1)\n",
        "node2 = Node(2)\n",
        "node3 = Node(3)\n",
        "node4 = Node(4)\n",
        "node5 = Node(5)\n",
        "\n",
        "# Creating the linkage\n",
        "head.setNext(node2)\n",
        "node2.setNext(node3)\n",
        "node3.setNext(node4)\n",
        "node4.setNext(node5)\n",
        "\n",
        "print(\"Original linked list:\")\n",
        "traverse(head)\n",
        "\n",
        "print(\"Reversed linked list:\")\n",
        "reversed_head = reverse(head)\n",
        "traverse(reversed_head)\n"
      ]
    },
    {
      "cell_type": "markdown",
      "source": [
        "Problem 2: Merge two sorted linked lists into one sorted linked list.\n",
        "\n",
        "Input: List 1: 1 -> 3 -> 5, List 2: 2 -> 4 -> 6\n",
        "Output: 1 -> 2 -> 3 -> 4 -> 5 -> 6"
      ],
      "metadata": {
        "id": "aB-6WIJpNdU-"
      }
    },
    {
      "cell_type": "code",
      "source": [
        "\n",
        "\n",
        "def merge_sorted_lists(list1, list2):\n",
        "    # Create a dummy node as the head of the merged list\n",
        "    dummy = Node()\n",
        "    tail = dummy\n",
        "\n",
        "    # Traverse both lists simultaneously\n",
        "    while list1 and list2:\n",
        "        if list1.getData() <= list2.getData():\n",
        "            # Append the smaller element to the merged list\n",
        "            tail.setNext(list1)\n",
        "            list1 = list1.getNext()\n",
        "        else:\n",
        "            tail.setNext(list2)\n",
        "            list2 = list2.getNext()\n",
        "        # Move the tail pointer forward\n",
        "        tail = tail.getNext()\n",
        "\n",
        "    # Append the remaining elements of list1 or list2, if any\n",
        "    if list1:\n",
        "        tail.setNext(list1)\n",
        "    elif list2:\n",
        "        tail.setNext(list2)\n",
        "\n",
        "    # Return the head of the merged list (excluding the dummy node)\n",
        "    return dummy.getNext()\n",
        "\n",
        "def traverse(head):\n",
        "    temp = head\n",
        "    while temp:\n",
        "        print(temp.getData(), end=\" -> \")\n",
        "        temp = temp.getNext()\n",
        "    print(\"None\")\n",
        "\n",
        "# Create the first sorted linked list: 1 -> 3 -> 5\n",
        "list1 = Node(1)\n",
        "list1.setNext(Node(3))\n",
        "list1.getNext().setNext(Node(5))\n",
        "\n",
        "# Create the second sorted linked list: 2 -> 4 -> 6\n",
        "list2 = Node(2)\n",
        "list2.setNext(Node(4))\n",
        "list2.getNext().setNext(Node(6))\n",
        "\n",
        "print(\"List 1:\")\n",
        "traverse(list1)\n",
        "print(\"List 2:\")\n",
        "traverse(list2)\n",
        "\n",
        "# Merge the two sorted linked lists\n",
        "merged_list = merge_sorted_lists(list1, list2)\n",
        "\n",
        "print(\"Merged List:\")\n",
        "traverse(merged_list)"
      ],
      "metadata": {
        "colab": {
          "base_uri": "https://localhost:8080/"
        },
        "id": "qH7lJa9xhjk1",
        "outputId": "5e3f34f6-a3c1-4890-f577-5ca1ce363f0f"
      },
      "execution_count": null,
      "outputs": [
        {
          "output_type": "stream",
          "name": "stdout",
          "text": [
            "List 1:\n",
            "1 -> 3 -> 5 -> None\n",
            "List 2:\n",
            "2 -> 4 -> 6 -> None\n",
            "Merged List:\n",
            "1 -> 2 -> 3 -> 4 -> 5 -> 6 -> None\n"
          ]
        }
      ]
    },
    {
      "cell_type": "markdown",
      "source": [
        "Problem 3: Remove the nth node from the end of a linked list.\n",
        "\n",
        "Input: 1 -> 2 -> 3 -> 4 -> 5, n = 2\n",
        "Output: 1 -> 2 -> 3 -> 5"
      ],
      "metadata": {
        "id": "Vjqio4ZdNk3b"
      }
    },
    {
      "cell_type": "code",
      "source": [
        "def remove_from_end(head, k):\n",
        "    # Check if the linked list is empty\n",
        "    if not head:\n",
        "        return head\n",
        "\n",
        "    # Calculate the length of the linked list\n",
        "    length = 0\n",
        "    temp = head\n",
        "    while temp:\n",
        "        length += 1\n",
        "        temp = temp.getNext()\n",
        "\n",
        "    # Check if k is valid\n",
        "    if k <= 0 or k > length:\n",
        "        return head\n",
        "\n",
        "    # If k is equal to the length of the linked list, remove the first node\n",
        "    if k == length:\n",
        "        head = head.getNext()\n",
        "        return head\n",
        "\n",
        "    # Initialize two pointers: fast and slow\n",
        "    fast = head\n",
        "    slow = head\n",
        "\n",
        "    # Move the fast pointer k steps ahead\n",
        "    for _ in range(k):\n",
        "        fast = fast.getNext()\n",
        "\n",
        "    # Move both pointers until the fast pointer reaches the end\n",
        "    while fast.getNext():\n",
        "        fast = fast.getNext()\n",
        "        slow = slow.getNext()\n",
        "\n",
        "    # Remove the k-th node from the end by skipping it\n",
        "    slow.setNext(slow.getNext().getNext())\n",
        "\n",
        "    return head\n",
        "\n",
        "# Example usage\n",
        "head = Node(1)\n",
        "node2 = Node(2)\n",
        "node3 = Node(3)\n",
        "node4 = Node(4)\n",
        "node5 = Node(5)\n",
        "\n",
        "#Creating the linkage\n",
        "head.setNext(node2)\n",
        "node2.setNext(node3)\n",
        "node3.setNext(node4)\n",
        "node4.setNext(node5)\n",
        "\n",
        "print(\"Original Linked List:\")\n",
        "traverse(head)\n",
        "print()\n",
        "\n",
        "head = remove_from_end(head, 2)  # Remove the 3rd node from the end\n",
        "print(\"Linked List after removing the 3rd node from the end:\")\n",
        "traverse(head)\n",
        "\n"
      ],
      "metadata": {
        "colab": {
          "base_uri": "https://localhost:8080/"
        },
        "id": "eNcKKXeXkial",
        "outputId": "59970895-ad1c-4648-85c5-bd963750ac5f"
      },
      "execution_count": null,
      "outputs": [
        {
          "output_type": "stream",
          "name": "stdout",
          "text": [
            "Original Linked List:\n",
            "1 -> 2 -> 3 -> 4 -> 5 -> None\n",
            "\n",
            "Linked List after removing the 3rd node from the end:\n",
            "1 -> 2 -> 3 -> 5 -> None\n"
          ]
        }
      ]
    },
    {
      "cell_type": "markdown",
      "source": [
        "Problem 4: Find the intersection point of two linked lists.\n",
        "\n",
        "Input: List 1: 1 -> 2 -> 3 -> 4, List 2: 9 -> 8 -> 3 -> 4\n",
        "Output: Node with value 3"
      ],
      "metadata": {
        "id": "KP9abXIMNq27"
      }
    },
    {
      "cell_type": "code",
      "source": [
        "# Link list node\n",
        "\n",
        "'''\n",
        "Using 2 nested for loops. The outer loop will be for each node of the 1st list and the inner loop will be for the 2nd list.\n",
        "In the inner loop, check if any of the nodes of the 2nd list is the same as the current node of the first linked list.\n",
        "The time complexity of this method will be O(M * N) where m and n are the numbers of nodes in two lists.\n",
        "'''\n",
        "class Node:\n",
        "    def __init__(self, data):\n",
        "        self.data = data\n",
        "        self.next = None\n",
        "\n",
        "# Function to get the intersection point of two linked lists head1 and head2\n",
        "def getIntersectionNode(head1, head2):\n",
        "    while head2:\n",
        "        temp = head1\n",
        "        while temp:\n",
        "            # If both nodes are same\n",
        "            if temp == head2:\n",
        "                return head2\n",
        "            temp = temp.next\n",
        "        head2 = head2.next\n",
        "    # Intersection is not present between the lists\n",
        "    return None\n",
        "\n",
        "# Create two linked lists\n",
        "# List 1: 1 -> 2 -> 3 -> 4\n",
        "head1 = Node(1)\n",
        "head1.next = Node(2)\n",
        "head1.next.next = Node(3)\n",
        "head1.next.next.next = Node(4)\n",
        "\n",
        "# List 2: 9 -> 8 -> 3 -> 4\n",
        "head2 = Node(9)\n",
        "head2.next = Node(8)\n",
        "head2.next.next = head1.next.next\n",
        "\n",
        "# Find the intersection point\n",
        "intersection_point = getIntersectionNode(head1, head2)\n",
        "\n",
        "if not intersection_point:\n",
        "    print(\"No Intersection Point\")\n",
        "else:\n",
        "    print(\"Intersection Point:\", intersection_point.data)\n",
        "\n"
      ],
      "metadata": {
        "id": "pmL36jiUopOC",
        "colab": {
          "base_uri": "https://localhost:8080/"
        },
        "outputId": "18cf90ba-714c-4fc7-a330-d1aad38d812b"
      },
      "execution_count": null,
      "outputs": [
        {
          "output_type": "stream",
          "name": "stdout",
          "text": [
            "Intersection Point: 3\n"
          ]
        }
      ]
    },
    {
      "cell_type": "markdown",
      "source": [
        "Problem 5: Remove duplicates from a sorted linked list.\n",
        "Input: 1 -> 1 -> 2 -> 3 -> 3\n",
        "Output: 1 -> 2 -> 3"
      ],
      "metadata": {
        "id": "X_P6mUL9BLzf"
      }
    },
    {
      "cell_type": "code",
      "source": [
        "\n",
        "class Node:\n",
        "\n",
        "    # Constructor to initialize\n",
        "    # the node object\n",
        "    def __init__(self, data):\n",
        "        self.data = data\n",
        "        self.next = None\n",
        "\n",
        "\n",
        "class LinkedList:\n",
        "\n",
        "    # Function to initialize head\n",
        "    def __init__(self):\n",
        "        self.head = None\n",
        "\n",
        "    # Function to insert a new node\n",
        "    # at the beginning\n",
        "    def push(self, new_data):\n",
        "        new_node = Node(new_data)\n",
        "        new_node.next = self.head\n",
        "        self.head = new_node\n",
        "\n",
        "    # Given a reference to the head of a\n",
        "    # list and a key, delete the first\n",
        "    # occurrence of key in linked list\n",
        "    def deleteNode(self, key):\n",
        "\n",
        "        # Store head node\n",
        "        temp = self.head\n",
        "\n",
        "        # If head node itself holds the\n",
        "        # key to be deleted\n",
        "        if (temp is not None):\n",
        "            if (temp.data == key):\n",
        "                self.head = temp.next\n",
        "                temp = None\n",
        "                return\n",
        "\n",
        "        # Search for the key to be deleted,\n",
        "        # keep track of the previous node as\n",
        "        # we need to change 'prev.next'\n",
        "        while(temp is not None):\n",
        "            if temp.data == key:\n",
        "                break\n",
        "            prev = temp\n",
        "            temp = temp.next\n",
        "\n",
        "        # if key was not present in\n",
        "        # linked list\n",
        "        if(temp == None):\n",
        "            return\n",
        "\n",
        "        # Unlink the node from linked list\n",
        "        prev.next = temp.next\n",
        "\n",
        "        temp = None\n",
        "\n",
        "    # Utility function to print the\n",
        "    # linked LinkedList\n",
        "    def printList(self):\n",
        "        temp = self.head\n",
        "        while(temp):\n",
        "            print(temp.data, end=' ')\n",
        "            temp = temp.next\n",
        "\n",
        "    # This function removes duplicates\n",
        "    # from a sorted list\n",
        "    def removeDuplicates(self):\n",
        "        temp = self.head\n",
        "        if temp is None:\n",
        "            return\n",
        "        while temp.next is not None:\n",
        "            if temp.data == temp.next.data:\n",
        "                new = temp.next.next\n",
        "                temp.next = None\n",
        "                temp.next = new\n",
        "            else:\n",
        "                temp = temp.next\n",
        "        return self.head\n",
        "\n",
        "\n",
        "llist = LinkedList()\n",
        "\n",
        "llist.push(3)\n",
        "llist.push(3)\n",
        "llist.push(2)\n",
        "llist.push(1)\n",
        "llist.push(1)\n",
        "\n",
        "print(\"Created Linked List: \")\n",
        "llist.printList()\n",
        "print()\n",
        "print(\"Linked List after removing\",\n",
        "      \"duplicate elements:\")\n",
        "llist.removeDuplicates()\n",
        "llist.printList()\n",
        "\n",
        "\n"
      ],
      "metadata": {
        "id": "z6uGuv6rgShx",
        "colab": {
          "base_uri": "https://localhost:8080/"
        },
        "outputId": "e42991c2-3f3a-4342-f29b-d0ea1edd42c9"
      },
      "execution_count": null,
      "outputs": [
        {
          "output_type": "stream",
          "name": "stdout",
          "text": [
            "Created Linked List: \n",
            "1 1 2 3 3 \n",
            "Linked List after removing duplicate elements:\n",
            "1 2 3 "
          ]
        }
      ]
    },
    {
      "cell_type": "markdown",
      "source": [
        "Problem 6: Add two numbers represented by linked lists (where each node contains a single digit).\n",
        "Input: List 1: 2 -> 4 -> 3, List 2: 5 -> 6 -> 4 (represents 342 + 465)\n",
        "Output: 7 -> 0 -> 8 (represents 807)\n",
        "\n",
        "Traverse both lists to the end and add preceding zeros in the list with lesser digits. Then call a recursive function on the start nodes of both lists which calls itself for the next nodes of both lists till it gets to the end. This function creates a node for the sum of the current digits and returns the carry.\n",
        "\n",
        "\n",
        "steps to solve the problem:\n",
        "\n",
        "Traverse the two linked lists in order to add preceding zeros in case a list is having lesser digits than the other one.\n",
        "Start from the head node of both lists and call a recursive function for the next nodes.\n",
        "Continue it till the end of the lists.\n",
        "Creates a node for current digits sum and returns the carry."
      ],
      "metadata": {
        "id": "AJTE63ppLt32"
      }
    },
    {
      "cell_type": "code",
      "source": [
        "class Solution:\n",
        "    # Function to reverse a list\n",
        "    def reverse(self, head):\n",
        "        if head is None or head.next is None:\n",
        "            return head\n",
        "        prev = None\n",
        "        next = None\n",
        "        curr = head\n",
        "        while curr is not None:\n",
        "            next = curr.next\n",
        "            curr.next = prev\n",
        "            prev = curr\n",
        "            curr = next\n",
        "        head = prev\n",
        "        return head\n",
        "\n",
        "    # Function to add two numbers represented by linked list.\n",
        "\n",
        "    def addTwoLists(self, first, second):\n",
        "\n",
        "        # reverse the two lists\n",
        "        curr1 = self.reverse(first)\n",
        "        curr2 = self.reverse(second)\n",
        "\n",
        "        # res is head node of the resultant list\n",
        "        sum = 0\n",
        "        carry = 0\n",
        "        res = None\n",
        "        prev = None\n",
        "\n",
        "        # while both lists have atleast one node\n",
        "        while curr1 is not None or curr2 is not None:\n",
        "\n",
        "            # Calculating the sum of the last digits\n",
        "            sum = carry + (curr1.data if curr1 else 0) + \\\n",
        "                (curr2.data if curr2 else 0)\n",
        "\n",
        "            # update carry for next calculation\n",
        "            carry = (1 if sum >= 10 else 0)\n",
        "\n",
        "            # update sum if it is greater than 10\n",
        "            sum = sum % 10\n",
        "\n",
        "            # Create a new node with sum as data\n",
        "            temp = Node(sum)\n",
        "\n",
        "            # if this is the first node then set it as head of the resultant list\n",
        "            if res is None:\n",
        "                res = temp\n",
        "\n",
        "            # If this is not the first node then connect it to the rest.\n",
        "            else:\n",
        "                prev.next = temp\n",
        "\n",
        "            # Set prev for next insertion\n",
        "            prev = temp\n",
        "\n",
        "            # Move first and second pointers to next nodes\n",
        "            if curr1:\n",
        "                curr1 = curr1.next\n",
        "            if curr2:\n",
        "                curr2 = curr2.next\n",
        "\n",
        "        # if carry from previous sums is remaining\n",
        "        if carry > 0:\n",
        "            temp.next = Node(carry)\n",
        "\n",
        "        # Reverse the resultant answer\n",
        "        ans = self.reverse(res)\n",
        "        return ans\n",
        "\n",
        "\n",
        "class Node:\n",
        "    def __init__(self, data):\n",
        "        self.data = data\n",
        "        self.next = None\n",
        "\n",
        "\n",
        "\n",
        "class LinkedList:\n",
        "    def __init__(self):\n",
        "        self.head = None\n",
        "        self.tail = None\n",
        "\n",
        "    def insert(self, val):\n",
        "        if self.head is None:\n",
        "            self.head = Node(val)\n",
        "            self.tail = self.head\n",
        "        else:\n",
        "            self.tail.next = Node(val)\n",
        "            self.tail = self.tail.next\n",
        "\n",
        "# Utility function to print the list\n",
        "def printList(n):\n",
        "    while n:\n",
        "        print(n.data, end = ' ')\n",
        "        n = n.next\n",
        "    print()\n",
        "\n",
        "\n",
        "if __name__ == \"__main__\":\n",
        "\n",
        "    arr1 = [2,4,3]\n",
        "    LL1 = LinkedList()\n",
        "    for i in arr1:\n",
        "        LL1.insert(i)\n",
        "    print(\"First list is\", end = \" \")\n",
        "    printList(LL1.head)\n",
        "\n",
        "    arr2 = [5,6,4]\n",
        "    LL2 = LinkedList()\n",
        "    for i in arr2:\n",
        "        LL2.insert(i)\n",
        "    print(\"Second list is\", end = \" \")\n",
        "    printList(LL2.head)\n",
        "\n",
        "    # Function Call\n",
        "    res = Solution().addTwoLists(LL1.head, LL2.head)\n",
        "    print(\"Resultant list is\", end = \" \")\n",
        "    printList(res)"
      ],
      "metadata": {
        "colab": {
          "base_uri": "https://localhost:8080/"
        },
        "id": "jFr_w6a7L5H6",
        "outputId": "ea9265fb-ce2d-491f-e133-98b085bf6967"
      },
      "execution_count": null,
      "outputs": [
        {
          "output_type": "stream",
          "name": "stdout",
          "text": [
            "First list is 2 4 3 \n",
            "Second list is 5 6 4 \n",
            "Resultant list is 8 0 7 \n"
          ]
        }
      ]
    },
    {
      "cell_type": "markdown",
      "source": [
        "Swap nodes in pairs in a linked list.\n",
        "Input: 1 -> 2 -> 3 -> 4\n",
        "Output: 2 -> 1 -> 4 -> 3\n",
        "\n",
        "Using Recursion:If there are 2 or more than 2 nodes in Linked List then swap the first two nodes and recursively call for the rest of the list."
      ],
      "metadata": {
        "id": "4DaUAbvDcre0"
      }
    },
    {
      "cell_type": "code",
      "source": [
        "class ListNode:\n",
        "    def __init__(self, val=0, next=None):\n",
        "        self.val = val\n",
        "        self.next = next\n",
        "\n",
        "# Recursive function to pairwise swap elements of a linked list\n",
        "def pairWiseSwap(head):\n",
        "    # Base case: If there are 0 or 1 nodes, no need to swap\n",
        "    if head is None or head.next is None:\n",
        "        return head\n",
        "\n",
        "    # Swap the data of the current node and the next node\n",
        "    head.val, head.next.val = head.next.val, head.val\n",
        "\n",
        "    # Call pairWiseSwap() for the rest of the list\n",
        "    pairWiseSwap(head.next.next)\n",
        "\n",
        "# Utility function to print the linked list\n",
        "def printLinkedList(head):\n",
        "    while head:\n",
        "        print(head.val, end=\" -> \")\n",
        "        head = head.next\n",
        "    print(\"None\")\n",
        "\n",
        "if __name__ == \"__main__\":\n",
        "    # Create the linked list: 1 -> 2 -> 3 -> 4\n",
        "    head = ListNode(1)\n",
        "    head.next = ListNode(2)\n",
        "    head.next.next = ListNode(3)\n",
        "    head.next.next.next = ListNode(4)\n",
        "\n",
        "    print(\"Original linked list:\")\n",
        "    printLinkedList(head)\n",
        "\n",
        "    # Swap the data of nodes in pairs\n",
        "    pairWiseSwap(head)\n",
        "\n",
        "    print(\"Linked list after pairwise swapping:\")\n",
        "    printLinkedList(head)"
      ],
      "metadata": {
        "colab": {
          "base_uri": "https://localhost:8080/"
        },
        "id": "LlaTER-VdDvO",
        "outputId": "d3b9c375-38cc-4029-cb03-29375f59105f"
      },
      "execution_count": null,
      "outputs": [
        {
          "output_type": "stream",
          "name": "stdout",
          "text": [
            "Original linked list:\n",
            "1 -> 2 -> 3 -> 4 -> None\n",
            "Linked list after pairwise swapping:\n",
            "2 -> 1 -> 4 -> 3 -> None\n"
          ]
        }
      ]
    },
    {
      "cell_type": "markdown",
      "source": [
        "Problem 8: Reverse nodes in a linked list in groups of k.\n",
        "\n",
        "Input: 1 -> 2 -> 3 -> 4 -> 5, k = 3\n",
        "Output: 3 -> 2 -> 1 -> 4 -> 5\n",
        "\n",
        "Reverse the first sub-list of size k. While reversing keep track of the next node and previous node. Let the pointer to the next node be next and pointer to the previous node be prev. See this post for reversing a linked list.\n",
        "head->next = reverse(next, k) ( Recursively call for rest of the list and link the two sub-lists )\n",
        "Return prev ( prev becomes the new head of the list)"
      ],
      "metadata": {
        "id": "zFSVWkj1izzn"
      }
    },
    {
      "cell_type": "code",
      "source": [
        "# Node class\n",
        "class Node:\n",
        "    # Constructor to initialize the node object\n",
        "    def __init__(self, data):\n",
        "        self.data = data\n",
        "        self.next = None\n",
        "\n",
        "# Linked list class\n",
        "class LinkedList:\n",
        "    # Function to initialize head\n",
        "    def __init__(self):\n",
        "        self.head = None\n",
        "\n",
        "    # Function to reverse the linked list in groups of size k\n",
        "    def reverse(self, head, k):\n",
        "        if head is None:\n",
        "            return None\n",
        "        current = head\n",
        "        next = None\n",
        "        prev = None\n",
        "        count = 0\n",
        "\n",
        "        # Reverse first k nodes of the linked list\n",
        "        while current is not None and count < k:\n",
        "            next = current.next\n",
        "            current.next = prev\n",
        "            prev = current\n",
        "            current = next\n",
        "            count += 1\n",
        "\n",
        "        # next is now a pointer to (k+1)th node\n",
        "        # recursively call for the list starting\n",
        "        # from current. And make rest of the list as\n",
        "        # next of first node\n",
        "        if next is not None:\n",
        "            head.next = self.reverse(next, k)\n",
        "\n",
        "        # prev is new head of the input list\n",
        "        return prev\n",
        "\n",
        "    # Function to insert a new node at the beginning\n",
        "    def push(self, new_data):\n",
        "        new_node = Node(new_data)\n",
        "        new_node.next = self.head\n",
        "        self.head = new_node\n",
        "\n",
        "    # Utility function to print the linked LinkedList\n",
        "    def printList(self):\n",
        "        temp = self.head\n",
        "        while temp:\n",
        "            print(temp.data, end=' ')\n",
        "            temp = temp.next\n",
        "\n",
        "# Driver program\n",
        "if __name__ == \"__main__\":\n",
        "    llist = LinkedList()\n",
        "    llist.push(9)\n",
        "    llist.push(8)\n",
        "    llist.push(7)\n",
        "    llist.push(6)\n",
        "    llist.push(5)\n",
        "    llist.push(4)\n",
        "    llist.push(3)\n",
        "    llist.push(2)\n",
        "    llist.push(1)\n",
        "\n",
        "    print(\"Given linked list:\")\n",
        "    llist.printList()\n",
        "    llist.head = llist.reverse(llist.head, 3)\n",
        "\n",
        "    print(\"\\nReversed Linked list:\")\n",
        "    llist.printList()\n"
      ],
      "metadata": {
        "colab": {
          "base_uri": "https://localhost:8080/"
        },
        "id": "6EMxL-50j6Oi",
        "outputId": "d592eff8-9e1c-49da-a785-3fcfc810d568"
      },
      "execution_count": null,
      "outputs": [
        {
          "output_type": "stream",
          "name": "stdout",
          "text": [
            "Given linked list:\n",
            "1 2 3 4 5 6 7 8 9 \n",
            "Reversed Linked list:\n",
            "3 2 1 6 5 4 9 8 7 "
          ]
        }
      ]
    },
    {
      "cell_type": "markdown",
      "source": [
        "Problem 9: Determine if a linked list is a palindrome.\n",
        "\n",
        "Input: 1 -> 2 -> 2 -> 1\n",
        "Output: True\n",
        "\n",
        "Follow Steps:\n",
        "A simple solution is to use a stack of list nodes. This mainly involves three steps.\n",
        "Traverse the given list from head to tail and push every visited node to stack.\n",
        "Traverse the list again. For every visited node, pop a node from the stack and compare data of popped node with the currently visited node.\n",
        "If all nodes matched, then return true, else false."
      ],
      "metadata": {
        "id": "j9UWdWdOqxLI"
      }
    },
    {
      "cell_type": "code",
      "source": [
        "# Python3 program to check if linked\n",
        "# list is palindrome using stack\n",
        "\n",
        "\n",
        "class Node:\n",
        "    def __init__(self, data):\n",
        "\n",
        "        self.data = data\n",
        "        self.ptr = None\n",
        "\n",
        "# Function to check if the linked list\n",
        "# is palindrome or not\n",
        "\n",
        "\n",
        "def ispalindrome(head):\n",
        "\n",
        "    # Temp pointer\n",
        "    slow = head\n",
        "\n",
        "    # Declare a stack\n",
        "    stack = []\n",
        "\n",
        "    ispalin = True\n",
        "\n",
        "    # Push all elements of the list\n",
        "    # to the stack\n",
        "    while slow != None:\n",
        "        stack.append(slow.data)\n",
        "\n",
        "        # Move ahead\n",
        "        slow = slow.ptr\n",
        "\n",
        "    # Iterate in the list again and\n",
        "    # check by popping from the stack\n",
        "    while head != None:\n",
        "\n",
        "        # Get the top most element\n",
        "        i = stack.pop()\n",
        "\n",
        "        # Check if data is not\n",
        "        # same as popped element\n",
        "        if head.data == i:\n",
        "            ispalin = True\n",
        "        else:\n",
        "            ispalin = False\n",
        "            break\n",
        "\n",
        "        # Move ahead\n",
        "        head = head.ptr\n",
        "\n",
        "    return ispalin\n",
        "\n",
        "# Driver Code\n",
        "\n",
        "\n",
        "# Addition of linked list\n",
        "one = Node(1)\n",
        "two = Node(2)\n",
        "three = Node(2)\n",
        "four = Node(1)\n",
        "\n",
        "\n",
        "# Initialize the next pointer\n",
        "# of every current pointer\n",
        "one.ptr = two\n",
        "two.ptr = three\n",
        "three.ptr = four\n",
        "four.ptr = None\n",
        "\n",
        "# Call function to check palindrome or not\n",
        "result = ispalindrome(one)\n",
        "\n",
        "print(\"isPalindrome:\", result)\n",
        "\n",
        "\n"
      ],
      "metadata": {
        "colab": {
          "base_uri": "https://localhost:8080/"
        },
        "id": "mPc2tY77qxqN",
        "outputId": "a934d00f-960e-4402-f297-740a58ce78ec"
      },
      "execution_count": null,
      "outputs": [
        {
          "output_type": "stream",
          "name": "stdout",
          "text": [
            "isPalindrome: True\n"
          ]
        }
      ]
    },
    {
      "cell_type": "markdown",
      "source": [
        "Problem 10: Rotate a linked list to the right by k places.\n",
        "\n",
        "Input: 1 -> 2 -> 3 -> 4 -> 5, k = 2\n",
        "Output: 4 -> 5 -> 1 -> 2 -> 3\n",
        "\n",
        "To rotate the linked list, we need to change the next pointer of kth node to NULL, the next pointer of the last node should point to the previous head node, and finally, change the head to (k+1)th node. So we need to get hold of three nodes: kth node, (k+1)th node, and last node.\n",
        "Traverse the list from the beginning and stop at kth node. store k’s next in a tem pointer and point k’s next to NULL then start traversing from tem and keep traversing till the end and point end node’s next to start node and make tem as the new head."
      ],
      "metadata": {
        "id": "4GFHAGE4t1sT"
      }
    },
    {
      "cell_type": "code",
      "source": [
        "# Python program to rotate a linked list\n",
        "\n",
        "# Node class\n",
        "\n",
        "\n",
        "class Node:\n",
        "\n",
        "\t# Constructor to initialize the node object\n",
        "\tdef __init__(self, data):\n",
        "\t\tself.data = data\n",
        "\t\tself.next = None\n",
        "\n",
        "\n",
        "class LinkedList:\n",
        "\n",
        "\t# Function to initialize head\n",
        "\tdef __init__(self):\n",
        "\t\tself.head = None\n",
        "\n",
        "\t# Function to insert a new node at the beginning\n",
        "\tdef push(self, new_data):\n",
        "\t\t# allocate node and put the data\n",
        "\t\tnew_node = Node(new_data)\n",
        "\n",
        "\t\t# Make next of new node as head\n",
        "\t\tnew_node.next = self.head\n",
        "\n",
        "\t\t# move the head to point to the new Node\n",
        "\t\tself.head = new_node\n",
        "\n",
        "\t# Utility function to print it the linked LinkedList\n",
        "\tdef printList(self):\n",
        "\t\ttemp = self.head\n",
        "\t\twhile(temp):\n",
        "\t\t\tprint (temp.data,)\n",
        "\t\t\ttemp = temp.next\n",
        "\n",
        "\t# This function rotates a linked list counter-clockwise and\n",
        "\t# updates the head. The function assumes that k is smaller\n",
        "\t# than size of linked list. It doesn't modify the list if\n",
        "\t# k is greater than of equal to size\n",
        "\tdef rotate(self, k):\n",
        "\t\tif k == 0:\n",
        "\t\t\treturn\n",
        "\n",
        "\t\t# Let us understand the below code for example k = 4\n",
        "\t\t# and list = 10->20->30->40->50->60\n",
        "\t\tcurrent = self.head\n",
        "\n",
        "\t\t# current will either point to kth or NULL after\n",
        "\t\t# this loop\n",
        "\t\t# current will point to node 40 in the above example\n",
        "\t\tcount = 1\n",
        "\t\twhile(count < k and current is not None):\n",
        "\t\t\tcurrent = current.next\n",
        "\t\t\tcount += 1\n",
        "\n",
        "\t\t# If current is None, k is greater than or equal\n",
        "\t\t# to count of nodes in linked list. Don't change\n",
        "\t\t# the list in this case\n",
        "\t\tif current is None:\n",
        "\t\t\treturn\n",
        "\n",
        "\t\t# current points to kth node. Store it in a variable\n",
        "\t\t# kth node points to node 40 in the above example\n",
        "\t\tkthNode = current\n",
        "\n",
        "\t\t# current will point to last node after this loop\n",
        "\t\t# current will point to node 60 in above example\n",
        "\t\twhile(current.next is not None):\n",
        "\t\t\tcurrent = current.next\n",
        "\n",
        "\t\t# Change next of last node to previous head\n",
        "\t\t# Next of 60 is now changed to node 10\n",
        "\t\tcurrent.next = self.head\n",
        "\n",
        "\t\t# Change head to (k + 1)th node\n",
        "\t\t# head is not changed to node 50\n",
        "\t\tself.head = kthNode.next\n",
        "\n",
        "\t\t# change next of kth node to NULL\n",
        "\t\t# next of 40 is not NULL\n",
        "\t\tkthNode.next = None\n",
        "\n",
        "\n",
        "# Driver program to test above function\n",
        "llist = LinkedList()\n",
        "\n",
        "# Create a list 1->2->3->4->5\n",
        "for i in range(5, 0, -1):\n",
        "\tllist.push(i)\n",
        "\n",
        "print( \"Given linked list\")\n",
        "llist.printList()\n",
        "llist.rotate(3)\n",
        "\n",
        "print (\"\\nRotated Linked list\")\n",
        "llist.printList()\n",
        "\n",
        "\n"
      ],
      "metadata": {
        "colab": {
          "base_uri": "https://localhost:8080/"
        },
        "id": "iuzZj9LPu-6P",
        "outputId": "cd4c85ab-e850-4c8d-e478-e5cebb9d51d5"
      },
      "execution_count": null,
      "outputs": [
        {
          "output_type": "stream",
          "name": "stdout",
          "text": [
            "Given linked list\n",
            "1\n",
            "2\n",
            "3\n",
            "4\n",
            "5\n",
            "\n",
            "Rotated Linked list\n",
            "4\n",
            "5\n",
            "1\n",
            "2\n",
            "3\n"
          ]
        }
      ]
    },
    {
      "cell_type": "markdown",
      "source": [
        "Problem 11: Flatten a multilevel doubly linked list.\n",
        "\n",
        "Input: 1 <-> 2 <-> 3 <-> 7 <-> 8 <-> 11 -> 12, 4 <-> 5 -> 9 -> 10, 6 -> 13\n",
        "Output: 1 <-> 2 <-> 3 <-> 4 <-> 5 <-> 6 <-> 7 <-> 8 <-> 9 <-> 10 <-> 11 <-> 12 <-> 13\n",
        "\n",
        "Here's a step-by-step explanation of the solution:\n",
        "\n",
        "Start from the head of the doubly linked list.\n",
        "For each node, check if it has a child list.\n",
        "If it has a child list, recursively flatten the child list.\n",
        "Merge the flattened child list with the current node's next nodes.\n",
        "Continue this process until all nodes in the doubly linked list are processed."
      ],
      "metadata": {
        "id": "m4BQvk0ewbU6"
      }
    },
    {
      "cell_type": "code",
      "source": [
        "class Node:\n",
        "    def __init__(self, val, prev=None, next=None, child=None):\n",
        "        self.val = val\n",
        "        self.prev = prev\n",
        "        self.next = next\n",
        "        self.child = child\n",
        "\n",
        "def flatten(head):\n",
        "    if not head:\n",
        "        return None\n",
        "\n",
        "    # Helper function to flatten a sublist starting from the given node\n",
        "    def flatten_sublist(node):\n",
        "        # Base case: if the node is None, return None\n",
        "        if not node:\n",
        "            return None\n",
        "\n",
        "        # Initialize the current node and its next node\n",
        "        curr = node\n",
        "        next_node = node.next\n",
        "\n",
        "        # Flatten the child sublist recursively\n",
        "        child_tail = flatten_sublist(curr.child)\n",
        "\n",
        "        # If the child sublist is not empty, merge it with the current sublist\n",
        "        if child_tail:\n",
        "            child_tail.next = next_node\n",
        "            if next_node:\n",
        "                next_node.prev = child_tail\n",
        "            curr.next = curr.child\n",
        "            curr.child.prev = curr\n",
        "            curr.child = None\n",
        "\n",
        "        # Find the tail of the current sublist\n",
        "        while curr.next:\n",
        "            curr = curr.next\n",
        "\n",
        "        # Return the tail of the current sublist\n",
        "        return curr\n",
        "\n",
        "    flatten_sublist(head)\n",
        "    return head\n",
        "\n",
        "# Helper function to print the flattened doubly linked list\n",
        "def print_flattened_list(head):\n",
        "    if not head:\n",
        "        print(\"Empty list\")\n",
        "        return\n",
        "    while head:\n",
        "        print(head.val, end=\" \")\n",
        "        if head.next:\n",
        "            print(\"<-> \", end=\"\")\n",
        "        head = head.next\n",
        "    print()\n",
        "\n",
        "# Example usage:\n",
        "# Construct the multilevel doubly linked list\n",
        "head = Node(1)\n",
        "head.next = Node(2)\n",
        "head.next.prev = head\n",
        "head.next.next = Node(3)\n",
        "head.next.next.prev = head.next\n",
        "head.next.next.next = Node(7)\n",
        "head.next.next.next.prev = head.next.next\n",
        "head.next.next.next.next = Node(8)\n",
        "head.next.next.next.next.prev = head.next.next.next\n",
        "head.next.next.next.next.next = Node(11)\n",
        "head.next.next.next.next.next.prev = head.next.next.next.next\n",
        "head.next.next.next.next.next.next = Node(12)\n",
        "head.next.next.next.next.next.next.prev = head.next.next.next.next.next\n",
        "head.next.next.child = Node(4)\n",
        "head.next.next.child.next = Node(5)\n",
        "head.next.next.child.next.child = Node(9)\n",
        "head.next.next.child.next.child.next = Node(10)\n",
        "head.next.next.child.next.next = Node(6)\n",
        "head.next.next.child.next.next.child = Node(13)\n",
        "\n",
        "# Flatten the multilevel doubly linked list\n",
        "flattened_head = flatten(head)\n",
        "\n",
        "# Print the flattened doubly linked list\n",
        "print(\"Flattened doubly linked list:\")\n",
        "print_flattened_list(flattened_head)\n"
      ],
      "metadata": {
        "id": "1HOqmfKfwb0M",
        "colab": {
          "base_uri": "https://localhost:8080/"
        },
        "outputId": "19a1f563-d242-46c9-df0f-9047aad1524c"
      },
      "execution_count": null,
      "outputs": [
        {
          "output_type": "stream",
          "name": "stdout",
          "text": [
            "Flattened doubly linked list:\n",
            "1 <-> 2 <-> 3 <-> 7 <-> 8 <-> 11 <-> 12 \n"
          ]
        }
      ]
    },
    {
      "cell_type": "markdown",
      "source": [
        "Problem 12: Rearrange a linked list such that all even positioned nodes are placed at the end.\n",
        "\n",
        "Input: 1 -> 2 -> 3 -> 4 -> 5\n",
        "Output: 1 -> 3 -> 5 -> 2 -> 4"
      ],
      "metadata": {
        "id": "5gJMNPRB4L6F"
      }
    },
    {
      "cell_type": "code",
      "source": [
        "# Python3 program to rearrange a\n",
        "# linked list in such a way that\n",
        "# all odd positioned node are stored\n",
        "# before all even positioned nodes\n",
        "\n",
        "# Linked List Node\n",
        "class Node:\n",
        "\tdef __init__(self, d):\n",
        "\t\tself.data = d\n",
        "\t\tself.next = None\n",
        "\n",
        "class LinkedList:\n",
        "\tdef __init__(self):\n",
        "\t\tself.head = None\n",
        "\n",
        "\t# A utility function to create\n",
        "\t# a new node\n",
        "\tdef newNode(self, key):\n",
        "\t\ttemp = Node(key)\n",
        "\t\tself.next = None\n",
        "\t\treturn temp\n",
        "\n",
        "\t# Rearranges given linked list\n",
        "\t# such that all even positioned\n",
        "\t# nodes are before odd positioned.\n",
        "\t# Returns new head of linked List.\n",
        "\tdef rearrangeEvenOdd(self, head):\n",
        "\n",
        "\t\t# Corner case\n",
        "\t\tif (self.head == None):\n",
        "\t\t\treturn None\n",
        "\n",
        "\t\t# Initialize first nodes of\n",
        "\t\t# even and odd lists\n",
        "\t\todd = self.head\n",
        "\t\teven = self.head.next\n",
        "\n",
        "\t\t# Remember the first node of\n",
        "\t\t# even list so that we can\n",
        "\t\t# connect the even list at the\n",
        "\t\t# end of odd list.\n",
        "\t\tevenFirst = even\n",
        "\n",
        "\t\twhile (1 == 1):\n",
        "\n",
        "\t\t\t# If there are no more nodes,\n",
        "\t\t\t# then connect first node of even\n",
        "\t\t\t# list to the last node of odd list\n",
        "\t\t\tif (odd == None or even == None or\n",
        "\t\t\t(even.next) == None):\n",
        "\t\t\t\todd.next = evenFirst\n",
        "\t\t\t\tbreak\n",
        "\n",
        "\t\t\t# Connecting odd nodes\n",
        "\t\t\todd.next = even.next\n",
        "\t\t\todd = even.next\n",
        "\n",
        "\t\t\t# If there are NO more even nodes\n",
        "\t\t\t# after current odd.\n",
        "\t\t\tif (odd.next == None):\n",
        "\t\t\t\teven.next = None\n",
        "\t\t\t\todd.next = evenFirst\n",
        "\t\t\t\tbreak\n",
        "\n",
        "\t\t\t# Connecting even nodes\n",
        "\t\t\teven.next = odd.next\n",
        "\t\t\teven = odd.next\n",
        "\t\treturn head\n",
        "\n",
        "\t# A utility function to print a\n",
        "\t# linked list\n",
        "\tdef printlist(self, node):\n",
        "\t\twhile (node != None):\n",
        "\t\t\tprint(node.data, end = \"\")\n",
        "\t\t\tprint(\"->\", end = \"\")\n",
        "\t\t\tnode = node.next\n",
        "\t\tprint (\"NULL\")\n",
        "\n",
        "\t# Function to insert a new node\n",
        "\t# at the beginning\n",
        "\tdef push(self, new_data):\n",
        "\t\tnew_node = Node(new_data)\n",
        "\t\tnew_node.next = self.head\n",
        "\t\tself.head = new_node\n",
        "\n",
        "\n",
        "ll = LinkedList()\n",
        "ll.push(5)\n",
        "ll.push(4)\n",
        "ll.push(3)\n",
        "ll.push(2)\n",
        "ll.push(1)\n",
        "print (\"Given Linked List\")\n",
        "ll.printlist(ll.head)\n",
        "\n",
        "start = ll.rearrangeEvenOdd(ll.head)\n",
        "\n",
        "print (\"Modified Linked List\")\n",
        "ll.printlist(start)\n",
        "\n"
      ],
      "metadata": {
        "colab": {
          "base_uri": "https://localhost:8080/"
        },
        "id": "iypkuey64Med",
        "outputId": "117d99cf-e1a4-4bbe-e115-89edc0016af3"
      },
      "execution_count": null,
      "outputs": [
        {
          "output_type": "stream",
          "name": "stdout",
          "text": [
            "Given Linked List\n",
            "1->2->3->4->5->NULL\n",
            "Modified Linked List\n",
            "1->3->5->2->4->NULL\n"
          ]
        }
      ]
    },
    {
      "cell_type": "markdown",
      "source": [
        "Problem 13: Given a non-negative number represented as a linked list, add one to it.\n",
        "\n",
        "Input: 1 -> 2 -> 3 (represents the number 123)\n",
        "Output: 1 -> 2 -> 4 (represents the number 124)\n",
        "\n",
        "To add one to a non-negative number represented as a linked list, we can follow these steps:\n",
        "\n",
        "Traverse the linked list to find the end.\n",
        "Starting from the end, increment each digit by 1 until reaching a digit less than 9 or reaching the beginning of the list.\n",
        "If the digit becomes 10 after incrementing, set it to 0 and continue with the previous digit.\n",
        "If the first digit becomes 10 after incrementing, create a new node with value 1 and make it the new head of the list."
      ],
      "metadata": {
        "id": "8-BwQj3c5Gy3"
      }
    },
    {
      "cell_type": "code",
      "source": [
        "class ListNode:\n",
        "    def __init__(self, val=0, next=None):\n",
        "        self.val = val\n",
        "        self.next = next\n",
        "\n",
        "def addOne(head):\n",
        "    # Helper function to reverse a linked list\n",
        "    def reverseLinkedList(node):\n",
        "        prev = None\n",
        "        while node:\n",
        "            next_node = node.next\n",
        "            node.next = prev\n",
        "            prev = node\n",
        "            node = next_node\n",
        "        return prev\n",
        "\n",
        "    # Reverse the linked list\n",
        "    head = reverseLinkedList(head)\n",
        "\n",
        "    # Add one to the linked list\n",
        "    carry = 1\n",
        "    node = head\n",
        "    while node:\n",
        "        total = node.val + carry\n",
        "        node.val = total % 10\n",
        "        carry = total // 10\n",
        "        if carry == 0:\n",
        "            break\n",
        "        if not node.next:\n",
        "            node.next = ListNode(0)\n",
        "        node = node.next\n",
        "\n",
        "    # Reverse the linked list again\n",
        "    head = reverseLinkedList(head)\n",
        "\n",
        "    return head\n",
        "\n",
        "def printLinkedList(head):\n",
        "    while head:\n",
        "        print(head.val, end=\" -> \")\n",
        "        head = head.next\n",
        "    print(\"None\")\n",
        "\n",
        "# Example usage:\n",
        "# Input: 1 -> 2 -> 3 (represents the number 123)\n",
        "head = ListNode(1)\n",
        "head.next = ListNode(2)\n",
        "head.next.next = ListNode(3)\n",
        "\n",
        "print(\"Original linked list:\")\n",
        "printLinkedList(head)\n",
        "\n",
        "# Add one to the linked list\n",
        "new_head = addOne(head)\n",
        "\n",
        "print(\"Linked list after adding one:\")\n",
        "printLinkedList(new_head)\n"
      ],
      "metadata": {
        "id": "C6GG1Y5D5XHN",
        "colab": {
          "base_uri": "https://localhost:8080/"
        },
        "outputId": "04a72cac-6e69-4423-9a39-1dc91378c8ed"
      },
      "execution_count": null,
      "outputs": [
        {
          "output_type": "stream",
          "name": "stdout",
          "text": [
            "Original linked list:\n",
            "1 -> 2 -> 3 -> None\n",
            "Linked list after adding one:\n",
            "1 -> 2 -> 4 -> None\n"
          ]
        }
      ]
    },
    {
      "cell_type": "markdown",
      "source": [
        "Problem 14: Given a sorted array and a target value, return the index if the target is found. If not, return the\n",
        "index where it would be inserted.\n",
        "\n",
        "Input: nums = [1, 3, 5, 6], target = 5\n",
        "Output: 2\n",
        "\n",
        "We will use binary search:\n",
        "\n",
        "Set start and end as 0 and N – 1, where the start and end variables denote the lower and upper bound of the search space respectively.\n",
        "Calculate mid = (start + end) / 2.\n",
        "If arr[mid] is found to be equal to K, print mid as the required answer.\n",
        "If arr[mid] exceeds K, set high = mid – 1 Otherwise, set  low = mid + 1."
      ],
      "metadata": {
        "id": "dJ1O_nloVJd6"
      }
    },
    {
      "cell_type": "code",
      "source": [
        "# Python program to implement\n",
        "# the above approach\n",
        "\n",
        "# Function to find insert position of K\n",
        "def find_index(arr, n, K):\n",
        "\n",
        "\t# Lower and upper bounds\n",
        "\tstart = 0\n",
        "\tend = n - 1\n",
        "\n",
        "\t# Traverse the search space\n",
        "\twhile start<= end:\n",
        "\n",
        "\t\tmid =(start + end)//2\n",
        "\n",
        "\t\tif arr[mid] == K:\n",
        "\t\t\treturn mid\n",
        "\n",
        "\t\telif arr[mid] < K:\n",
        "\t\t\tstart = mid + 1\n",
        "\t\telse:\n",
        "\t\t\tend = mid-1\n",
        "\n",
        "\t# Return the insert position\n",
        "\treturn end + 1\n",
        "\n",
        "\n",
        "arr = [1, 3, 5, 6]\n",
        "n = len(arr)\n",
        "K = 5\n",
        "print(find_index(arr, n, K))\n"
      ],
      "metadata": {
        "colab": {
          "base_uri": "https://localhost:8080/"
        },
        "id": "Jd7VwPP_VJ8c",
        "outputId": "62b04a3d-7744-4c0b-bb43-b70253064eab"
      },
      "execution_count": null,
      "outputs": [
        {
          "output_type": "stream",
          "name": "stdout",
          "text": [
            "2\n"
          ]
        }
      ]
    },
    {
      "cell_type": "markdown",
      "source": [
        "Problem 15: Find the minimum element in a rotated sorted array.\n",
        "\n",
        "Input: [4, 5, 6, 7, 0, 1, 2]\n",
        "Output: 0\n",
        "\n",
        "We start by checking if the array is not rotated. If it is not rotated, the minimum element is simply the first element of the array.\n",
        "\n",
        "If the array is rotated, we use binary search to narrow down the search space. We compare the middle element with the left and right elements to determine which half of the array contains the minimum element.\n",
        "\n",
        "However, we need to handle the case where the middle element is equal to the left and right elements. This indicates that the array is rotated and the minimum element could be either the middle element, the left element, or the right element.\n",
        "\n",
        "To handle this case, we update the minimum element to the minimum of the current minimum and the middle element. We then increment the left pointer and decrement the right pointer to continue the search.\n",
        "\n",
        "By repeatedly narrowing down the search space and handling duplicates, we can efficiently find the minimum element in a rotated sorted array."
      ],
      "metadata": {
        "id": "pRVxBWNzXfp9"
      }
    },
    {
      "cell_type": "code",
      "source": [
        "def findMin(arr, low, high):\n",
        "    # If the array is not rotated\n",
        "    if arr[low] < arr[high]:\n",
        "        return arr[low]\n",
        "\n",
        "    ans = float('inf')\n",
        "    # Binary search\n",
        "    while low <= high:\n",
        "        mid = (low + high) // 2\n",
        "        # if left most element is equal with right most and\n",
        "        # middle element then we can reduce the search\n",
        "        # space only by increasing the lower limit and\n",
        "        # decreasing the upper limit\n",
        "        if arr[mid] == arr[low] and arr[mid] == arr[high]:\n",
        "            ans = min(ans, arr[mid])\n",
        "            low += 1\n",
        "            high -= 1\n",
        "\n",
        "        # If the left half is sorted, the minimum element\n",
        "        # must be in the right half\n",
        "        elif arr[mid] > arr[high]:\n",
        "            low = mid + 1\n",
        "\n",
        "        # If the right half is sorted, the minimum element\n",
        "        # must be in the left half\n",
        "        else:\n",
        "            ans = min(ans, arr[mid])\n",
        "            high = mid - 1\n",
        "\n",
        "    # If no minimum element is found, return -1\n",
        "    return ans\n",
        "\n",
        "\n",
        "if __name__ == '__main__':\n",
        "    arr = [4, 5, 6, 7, 0, 1, 2]\n",
        "    N = len(arr)\n",
        "    print(\"The minimum element is \" + str(findMin(arr, 0, N - 1)))\n",
        "\n",
        "\n"
      ],
      "metadata": {
        "colab": {
          "base_uri": "https://localhost:8080/"
        },
        "id": "sXgnWyL8XgAB",
        "outputId": "1c8e5725-efbc-478c-f7c1-ed081b716646"
      },
      "execution_count": null,
      "outputs": [
        {
          "output_type": "stream",
          "name": "stdout",
          "text": [
            "The minimum element is 0\n"
          ]
        }
      ]
    },
    {
      "cell_type": "markdown",
      "source": [
        "Problem 16: Search for a target value in a rotated sorted array.\n",
        "\n",
        "Input: nums = [4, 5, 6, 7, 0, 1, 2], target = 0\n",
        "Output: 4\n",
        "\n",
        "Input arr[] = {3, 4, 5, 1, 2}, key = 1\n",
        "Initially low = 0, high = 4.\n",
        "\n",
        "low = 0, high = 4:\n",
        "        => mid = 2\n",
        "        => arr[mid] = 5, which is not the desired value.\n",
        "        => arr[low] < arr[mid] So, the left half is sorted.\n",
        "        => key < arr[low], So the next search region is 3 to 4.\n",
        "\n",
        "low = 3, high = 4:\n",
        "        => mid = 3\n",
        "        => arr[mid] = 1 = key\n",
        "        => So the element is found at index 3.\n",
        "\n",
        "The element is found at index 3."
      ],
      "metadata": {
        "id": "Moe7S0eMY6JI"
      }
    },
    {
      "cell_type": "code",
      "source": [
        "# Search an element in sorted and rotated array using\n",
        "# single pass of Binary Search\n",
        "\n",
        "# Returns index of key in arr[l..h] if key is present,\n",
        "# otherwise returns -1\n",
        "def search(arr, l, h, key):\n",
        "\tif l > h:\n",
        "\t\treturn -1\n",
        "\n",
        "\tmid = (l + h) // 2\n",
        "\tif arr[mid] == key:\n",
        "\t\treturn mid\n",
        "\n",
        "\t# If arr[l...mid] is sorted\n",
        "\tif arr[l] <= arr[mid]:\n",
        "\n",
        "\t\t# As this subarray is sorted, we can quickly\n",
        "\t\t# check if key lies in half or other half\n",
        "\t\tif key >= arr[l] and key <= arr[mid]:\n",
        "\t\t\treturn search(arr, l, mid-1, key)\n",
        "\t\treturn search(arr, mid + 1, h, key)\n",
        "\n",
        "\t# If arr[l..mid] is not sorted, then arr[mid... r]\n",
        "\t# must be sorted\n",
        "\tif key >= arr[mid] and key <= arr[h]:\n",
        "\t\treturn search(arr, mid + 1, h, key)\n",
        "\treturn search(arr, l, mid-1, key)\n",
        "\n",
        "\n",
        "if __name__ == '__main__':\n",
        "\tarr = [4, 5, 6, 7, 0, 1, 2]\n",
        "\tkey = 0\n",
        "\ti = search(arr, 0, len(arr)-1, key)\n",
        "\tif i != -1:\n",
        "\t\tprint(\"Index: % d\" % i)\n",
        "\telse:\n",
        "\t\tprint(\"Key not found\")\n",
        "\n"
      ],
      "metadata": {
        "colab": {
          "base_uri": "https://localhost:8080/"
        },
        "id": "yzJ_bxg6Y6fn",
        "outputId": "40b781b7-c23e-4c17-f23f-2522ac94a623"
      },
      "execution_count": null,
      "outputs": [
        {
          "output_type": "stream",
          "name": "stdout",
          "text": [
            "Index:  4\n"
          ]
        }
      ]
    },
    {
      "cell_type": "markdown",
      "source": [
        "Problem 17: Find the peak element in an array. A peak element is greater than its neighbors.\n",
        "\n",
        "Input: nums = [1, 2, 3, 1]\n",
        "Output: 2 (index of peak element)\n",
        "\n",
        "Create two variables, l and r, initialize l = 0 and r = n-1\n",
        "Recursively perform the below steps till l <= r, i.e. lowerbound is less than the upperbound\n",
        "Check if the mid value or index mid = low + (high – low) / 2,  is the peak element or not, if yes then print the element and terminate.\n",
        "Else if the element on the left side of the middle element is greater then check for peak element on the left side, i.e. update r = mid – 1\n",
        "Else if the element on the right side of the middle element is greater then check for peak element on the right side, i.e. update l = mid + 1   "
      ],
      "metadata": {
        "id": "proUUm4Uav--"
      }
    },
    {
      "cell_type": "code",
      "source": [
        "# A python3 program to find a peak\n",
        "# element using divide and conquer\n",
        "\n",
        "# A binary search based function\n",
        "# that returns index of a peak element\n",
        "\n",
        "\n",
        "def findPeakUtil(arr, low, high, n):\n",
        "\n",
        "\t# Find index of middle element\n",
        "\t# low + (high - low) / 2\n",
        "\tmid = low + (high - low)/2\n",
        "\tmid = int(mid)\n",
        "\n",
        "\t# Compare middle element with its\n",
        "\t# neighbours (if neighbours exist)\n",
        "\tif ((mid == 0 or arr[mid - 1] <= arr[mid]) and\n",
        "\t\t(mid == n - 1 or arr[mid + 1] <= arr[mid])):\n",
        "\t\treturn mid\n",
        "\n",
        "\n",
        "\t# If middle element is not peak and\n",
        "\t# its left neighbour is greater\n",
        "\t# than it, then left half must\n",
        "\t# have a peak element\n",
        "\telif (mid > 0 and arr[mid - 1] > arr[mid]):\n",
        "\t\treturn findPeakUtil(arr, low, (mid - 1), n)\n",
        "\n",
        "\t# If middle element is not peak and\n",
        "\t# its right neighbour is greater\n",
        "\t# than it, then right half must\n",
        "\t# have a peak element\n",
        "\telse:\n",
        "\t\treturn findPeakUtil(arr, (mid + 1), high, n)\n",
        "\n",
        "\n",
        "# A wrapper over recursive\n",
        "# function findPeakUtil()\n",
        "def findPeak(arr, n):\n",
        "\n",
        "\treturn findPeakUtil(arr, 0, n - 1, n)\n",
        "\n",
        "\n",
        "\n",
        "arr = [1, 2, 3, 1]\n",
        "n = len(arr)\n",
        "print(\"Index of a peak point is\", findPeak(arr, n))\n",
        "\n",
        "\n"
      ],
      "metadata": {
        "colab": {
          "base_uri": "https://localhost:8080/"
        },
        "id": "WmFmdjb2awNN",
        "outputId": "1a927602-dd01-448e-e556-9cf9c3027f15"
      },
      "execution_count": null,
      "outputs": [
        {
          "output_type": "stream",
          "name": "stdout",
          "text": [
            "Index of a peak point is 2\n"
          ]
        }
      ]
    },
    {
      "cell_type": "markdown",
      "source": [
        "Problem 18: Given a m x n matrix where each row and column is sorted in ascending order, count the number\n",
        "of negative numbers.\n",
        "\n",
        "\n",
        "Input: grid = [[4, 3, 2, -1], [3, 2, 1, -1], [1, 1, -1, -2], [-1, -1, -2, -3]]\n",
        "Output: 8\n",
        "\n",
        "To count the number of negative numbers in a given matrix efficiently, we can follow an approach similar to binary search within each row."
      ],
      "metadata": {
        "id": "6n9R5M_hcrl9"
      }
    },
    {
      "cell_type": "code",
      "source": [
        "def countNegative(M, n, m):\n",
        "    count = 0  # initialize result\n",
        "    i = 0  # Start from the first row\n",
        "    j = m - 1  # Start from the last column\n",
        "    while j >= 0 and i < n:\n",
        "        if M[i][j] < 0:\n",
        "            count += (n - i)  # Count all the numbers from the current row to the last row (including the negative one)\n",
        "            j -= 1  # Move to the left in the same row\n",
        "        else:\n",
        "            i += 1  # Move to the next row\n",
        "    return count\n",
        "\n",
        "M = [\n",
        "    [4, 3, 2, -1],\n",
        "    [3, 2, 1, -1],\n",
        "    [1, 1, -1, -2],\n",
        "    [-1, -1, -2, -3]\n",
        "    ]\n",
        "print(countNegative(M, 4, 4))\n"
      ],
      "metadata": {
        "id": "mo_a3x7wcr7Z",
        "colab": {
          "base_uri": "https://localhost:8080/"
        },
        "outputId": "52f28eda-b0b8-4a9f-9d24-80a8cb2e00b7"
      },
      "execution_count": null,
      "outputs": [
        {
          "output_type": "stream",
          "name": "stdout",
          "text": [
            "8\n"
          ]
        }
      ]
    },
    {
      "cell_type": "markdown",
      "source": [
        "Problem 19: Given a 2D matrix sorted in ascending order in each row, and the first integer of each row is\n",
        "greater than the last integer of the previous row, determine if a target value is present in the matrix.\n",
        "\n",
        "Input: matrix = [[1, 3, 5, 7], [10, 11, 16, 20], [23, 30, 34, 60]], target = 3\n",
        "Output: True\n",
        "\n",
        "\n",
        "First apply Binary Search to find the particular row i.e ‘K’ lies between the first and the last element of that row.\n",
        "Then apply simple binary search on that row to find whether ‘K’ is present in that row or not"
      ],
      "metadata": {
        "id": "ZEjTEfM46cqq"
      }
    },
    {
      "cell_type": "code",
      "source": [
        "\n",
        "\n",
        "M = 3\n",
        "N = 4\n",
        "\n",
        "# Basic binary search to find an element\n",
        "# in a 1-D array\n",
        "def binarySearch1D(arr, K):\n",
        "\tlow = 0\n",
        "\thigh = N - 1\n",
        "\twhile (low <= high):\n",
        "\t\tmid = low + int((high - low) / 2)\n",
        "\n",
        "\t\t# if element found return true\n",
        "\t\tif (arr[mid] == K):\n",
        "\t\t\treturn True\n",
        "\n",
        "\t\t# if middle less than K then skip\n",
        "\t\t# the left part of the array\n",
        "\t\t# else skip the right part\n",
        "\t\tif (arr[mid] < K):\n",
        "\t\t\tlow = mid + 1\n",
        "\t\telse:\n",
        "\t\t\thigh = mid - 1\n",
        "\n",
        "\t# if not found return false\n",
        "\treturn False\n",
        "\n",
        "# Function to search an element in a matrix\n",
        "# based on Divide and conquer approach\n",
        "def searchMatrix(matrix, K):\n",
        "\tlow = 0\n",
        "\thigh = M - 1\n",
        "\twhile (low <= high):\n",
        "\t\tmid = low + int((high - low) / 2)\n",
        "\n",
        "\t\t# if the element lies in the range\n",
        "\t\t# of this row then call\n",
        "\t\t# 1-D binary search on this row\n",
        "\t\tif (K >= matrix[mid][0] and\n",
        "\t\t\tK <= matrix[mid][N - 1]):\n",
        "\t\t\treturn binarySearch1D(matrix[mid], K)\n",
        "\n",
        "\t\t# if the element is less than the\n",
        "\t\t# starting element of that row then\n",
        "\t\t# search in upper rows else search\n",
        "\t\t# in the lower rows\n",
        "\t\tif (K < matrix[mid][0]):\n",
        "\t\t\thigh = mid - 1\n",
        "\t\telse:\n",
        "\t\t\tlow = mid + 1\n",
        "\n",
        "\t# if not found\n",
        "\treturn False\n",
        "\n",
        "if __name__ == '__main__':\n",
        "\tmatrix = [[1, 3, 5, 7],\n",
        "\t\t\t[10, 11, 16, 20],\n",
        "\t\t\t[23, 30, 34, 60]]\n",
        "\tK = 3\n",
        "\tif (searchMatrix(matrix, K)):\n",
        "\t\tprint(\"Found\")\n",
        "\telse:\n",
        "\t\tprint(\"Not found\")\n",
        "\n"
      ],
      "metadata": {
        "colab": {
          "base_uri": "https://localhost:8080/"
        },
        "id": "0v-yUVZC6c5d",
        "outputId": "1d2d6774-6c33-4731-dc8d-57bacda91348"
      },
      "execution_count": null,
      "outputs": [
        {
          "output_type": "stream",
          "name": "stdout",
          "text": [
            "Found\n"
          ]
        }
      ]
    },
    {
      "cell_type": "markdown",
      "source": [
        "Problem 20: Find Median in Two Sorted Arrays\n",
        "Problem: Given two sorted arrays, find the median of the combined sorted array.\n",
        "\n",
        "Input: nums1 = [1, 3], nums2 = [2]\n",
        "Output: 2.0\n",
        "\n",
        "The given two arrays are sorted, so we can utilize the ability of Binary Search to divide the array and find the median.\n",
        "\n",
        "Median means the point at which the whole array is divided into two parts. Hence since the two arrays are not merged so to get the median we require merging which is costly.\n",
        "\n",
        "Hence instead of merging, we will use a modified binary search algorithm to efficiently find the median."
      ],
      "metadata": {
        "id": "orYLlk8B8DHX"
      }
    },
    {
      "cell_type": "code",
      "source": [
        "class Solution:\n",
        "\n",
        "\t# Method to find median\n",
        "\tdef Median(self, A, B):\n",
        "\n",
        "\t\t# Assumption both A and B cannot be empty\n",
        "\t\tn = len(A)\n",
        "\t\tm = len(B)\n",
        "\t\tif (n > m):\n",
        "\t\t\treturn self.Median(B, A) # Swapping to make A smaller\n",
        "\n",
        "\t\tstart = 0\n",
        "\t\tend = n\n",
        "\t\trealmidinmergedarray = (n + m + 1) // 2\n",
        "\n",
        "\t\twhile (start <= end):\n",
        "\t\t\tmid = (start + end) // 2\n",
        "\t\t\tleftAsize = mid\n",
        "\t\t\tleftBsize = realmidinmergedarray - mid\n",
        "\n",
        "\t\t\t# checking overflow of indices\n",
        "\t\t\tleftA = A[leftAsize - 1] if (leftAsize > 0) else float('-inf')\n",
        "\t\t\tleftB = B[leftBsize - 1] if (leftBsize > 0) else float('-inf')\n",
        "\t\t\trightA = A[leftAsize] if (leftAsize < n) else float('inf')\n",
        "\t\t\trightB = B[leftBsize] if (leftBsize < m) else float('inf')\n",
        "\n",
        "\t\t\t# if correct partition is done\n",
        "\t\t\tif leftA <= rightB and leftB <= rightA:\n",
        "\t\t\t\tif ((m + n) % 2 == 0):\n",
        "\t\t\t\t\treturn (max(leftA, leftB) + min(rightA, rightB)) / 2.0\n",
        "\t\t\t\treturn max(leftA, leftB)\n",
        "\n",
        "\t\t\telif (leftA > rightB):\n",
        "\t\t\t\tend = mid - 1\n",
        "\t\t\telse:\n",
        "\t\t\t\tstart = mid + 1\n",
        "\n",
        "\n",
        "ans = Solution()\n",
        "arr1 = [1, 3]\n",
        "arr2 = [2]\n",
        "print(\"Median of the two arrays is\")\n",
        "print(ans.Median(arr1, arr2))\n",
        "\n"
      ],
      "metadata": {
        "colab": {
          "base_uri": "https://localhost:8080/"
        },
        "id": "iZnJWE6x8DYY",
        "outputId": "3a39e62b-01ba-4e79-e754-808e673e0d67"
      },
      "execution_count": null,
      "outputs": [
        {
          "output_type": "stream",
          "name": "stdout",
          "text": [
            "Median of the two arrays is\n",
            "2\n"
          ]
        }
      ]
    },
    {
      "cell_type": "markdown",
      "source": [
        "Problem 21: Given a sorted character array and a target letter, find the smallest letter in the array that is\n",
        "greater than the target.\n",
        "\n",
        "Input: letters = ['c', 'f', 'j'], target = a\n",
        "Output: 'c'\n",
        "\n",
        "Binary Search can be applied to find the index of the smallest character in the given Set of Letters such that the character at that index is greater than K. If the element at the current mid is smaller than or equal to K, binary search is applied on the Right half, else it is applied on the left half.\n",
        "\n"
      ],
      "metadata": {
        "id": "QJgw9YC89m9S"
      }
    },
    {
      "cell_type": "code",
      "source": [
        "def nextGreatestAlphabet(alphabets, K):\n",
        "    n = len(alphabets)\n",
        "\n",
        "    if K >= alphabets[n - 1]:\n",
        "        return alphabets[0]\n",
        "\n",
        "    l = 0\n",
        "    r = len(alphabets) - 1\n",
        "    ans = -1\n",
        "\n",
        "    while l <= r:\n",
        "        mid = int((l + r) / 2)\n",
        "        if alphabets[mid] > K:\n",
        "            r = mid - 1\n",
        "            ans = mid\n",
        "        else:\n",
        "            l = mid + 1\n",
        "\n",
        "    if alphabets[ans] < K:\n",
        "        return alphabets[0]\n",
        "    else:\n",
        "        return alphabets[ans]\n",
        "\n",
        "\n",
        "# Driver Code\n",
        "letters = ['c', 'f', 'j']\n",
        "K = 'a'\n",
        "\n",
        "# Function call\n",
        "result = nextGreatestAlphabet(letters, K)\n",
        "print(result)\n"
      ],
      "metadata": {
        "colab": {
          "base_uri": "https://localhost:8080/"
        },
        "id": "vHtL8ZFS9nNr",
        "outputId": "4a1086e6-6c78-4168-b9c4-c3eb24a00bc5"
      },
      "execution_count": null,
      "outputs": [
        {
          "output_type": "stream",
          "name": "stdout",
          "text": [
            "c\n"
          ]
        }
      ]
    },
    {
      "cell_type": "markdown",
      "source": [
        "Problem 22: Given an array with n objects colored red, white, or blue, sort them in-place so that objects of\n",
        "the same color are adjacent, with the colors in the order red, white, and blue.\n",
        "\n",
        "\n",
        "Input: nums = [2, 0, 2, 1, 1, 0]\n",
        "Output: [0, 0, 1, 1, 2, 2]\n",
        "\n"
      ],
      "metadata": {
        "id": "fwGFy5Yz_XOt"
      }
    },
    {
      "cell_type": "code",
      "source": [
        "\n",
        "# Function to sort array\n",
        "\n",
        "\n",
        "def sort012(a, arr_size):\n",
        "\tlo = 0\n",
        "\thi = arr_size - 1\n",
        "\tmid = 0\n",
        "\t# Iterate till all the elements\n",
        "\t# are sorted\n",
        "\twhile mid <= hi:\n",
        "\t\t# If the element is 0\n",
        "\t\tif a[mid] == 0:\n",
        "\t\t\ta[lo], a[mid] = a[mid], a[lo]\n",
        "\t\t\tlo = lo + 1\n",
        "\t\t\tmid = mid + 1\n",
        "\t\t# If the element is 1\n",
        "\t\telif a[mid] == 1:\n",
        "\t\t\tmid = mid + 1\n",
        "\t\t# If the element is 2\n",
        "\t\telse:\n",
        "\t\t\ta[mid], a[hi] = a[hi], a[mid]\n",
        "\t\t\thi = hi - 1\n",
        "\treturn a\n",
        "\n",
        "# Function to print array\n",
        "\n",
        "\n",
        "def printArray(a):\n",
        "\tfor k in a:\n",
        "\t\tprint(k, end=' ')\n",
        "\n",
        "\n",
        "\n",
        "arr = [2, 0, 2, 1, 1, 0]\n",
        "arr_size = len(arr)\n",
        "arr = sort012(arr, arr_size)\n",
        "printArray(arr)\n",
        "\n"
      ],
      "metadata": {
        "colab": {
          "base_uri": "https://localhost:8080/"
        },
        "id": "97ohbLOkAVcJ",
        "outputId": "575a5de0-425a-4035-c5f2-fc0a72edaac4"
      },
      "execution_count": null,
      "outputs": [
        {
          "output_type": "stream",
          "name": "stdout",
          "text": [
            "0 0 1 1 2 2 "
          ]
        }
      ]
    },
    {
      "cell_type": "markdown",
      "source": [],
      "metadata": {
        "id": "wcuvNbrwcqXv"
      }
    },
    {
      "cell_type": "code",
      "source": [
        "import sys\n",
        "\n",
        "# Function to calculate the number of elements greater than or equal to mid\n",
        "def count(nums, mid):\n",
        "    cnt = 0\n",
        "    for num in nums:\n",
        "        if num >= mid:\n",
        "            cnt += 1\n",
        "    return cnt\n",
        "\n",
        "# Function to find the kth largest element\n",
        "def kthLargest(nums, k):\n",
        "    low = sys.maxsize\n",
        "    high = -sys.maxsize - 1\n",
        "\n",
        "    # Calculate the minimum and maximum elements in the array\n",
        "    for num in nums:\n",
        "        low = min(low, num)\n",
        "        high = max(high, num)\n",
        "\n",
        "    # Perform binary search to find the kth largest element\n",
        "    while low < high:\n",
        "        mid = low + (high - low) // 2\n",
        "        if count(nums, mid) < k:\n",
        "            high = mid\n",
        "        else:\n",
        "            low = mid + 1\n",
        "    return low - 1\n",
        "\n",
        "\n",
        "if __name__ == \"__main__\":\n",
        "    nums = [3, 2, 1, 5, 6, 4]\n",
        "    k = 2\n",
        "\n",
        "    # Function call\n",
        "    print(\"K'th largest element is\", kthLargest(nums, k))\n"
      ],
      "metadata": {
        "colab": {
          "base_uri": "https://localhost:8080/"
        },
        "id": "5vgYSITLcqr9",
        "outputId": "75bd3784-300d-4e00-e5a6-5f076010a0cc"
      },
      "execution_count": null,
      "outputs": [
        {
          "output_type": "stream",
          "name": "stdout",
          "text": [
            "K'th largest element is 5\n"
          ]
        }
      ]
    },
    {
      "cell_type": "markdown",
      "source": [
        "Problem 24: Given an unsorted array, reorder it in-place such that nums[0] <= nums[1] >= nums[2] <=\n",
        "nums[3]...\n",
        "\n",
        "Input: nums = [3, 5, 2, 1, 6, 4]\n",
        "Output: [3, 5, 1, 6, 2, 4]"
      ],
      "metadata": {
        "id": "aF5xNZzsgxbs"
      }
    },
    {
      "cell_type": "code",
      "source": [
        "class Solution:\n",
        "    def wiggleSort(self, nums):\n",
        "        nums.sort()\n",
        "        half = len(nums[::2])\n",
        "        nums[::2], nums[1::2] = nums[:half][::-1], nums[half:][::-1]\n",
        "\n",
        "# Example usage:\n",
        "nums = [3, 5, 2, 1, 6, 4]\n",
        "solution = Solution()\n",
        "solution.wiggleSort(nums)\n",
        "print(nums)  # Output: [3, 5, 1, 6, 2, 4]\n",
        "\n"
      ],
      "metadata": {
        "colab": {
          "base_uri": "https://localhost:8080/"
        },
        "id": "8zAulqZ_hVrI",
        "outputId": "93ee2c02-50ea-4539-cee2-1949bc9f4179"
      },
      "execution_count": null,
      "outputs": [
        {
          "output_type": "stream",
          "name": "stdout",
          "text": [
            "[3, 6, 2, 5, 1, 4]\n"
          ]
        }
      ]
    },
    {
      "cell_type": "markdown",
      "source": [
        "Problem 25: Given an array of integers, calculate the sum of all its elements.\n",
        "\n",
        "Input: [1, 2, 3, 4, 5]\n",
        "Output: 15\n",
        "\n",
        "The idea is to iterate through each element of the array and adding it to a variable called sum. The sum variable is initialized to 0 before the iteration starts. After the iteration, the final sum is returned."
      ],
      "metadata": {
        "id": "xEjOYDdukWCc"
      }
    },
    {
      "cell_type": "code",
      "source": [
        "# Python 3 code to find sum\n",
        "# of elements in given array\n",
        "\n",
        "\n",
        "def _sum(arr, n):\n",
        "\n",
        "    # return sum using sum\n",
        "    # inbuilt sum() function\n",
        "    return(sum(arr))\n",
        "\n",
        "\n",
        "arr = []\n",
        "# input values to list\n",
        "arr = [1, 2, 3, 4, 5]\n",
        "\n",
        "# calculating length of array\n",
        "n = len(arr)\n",
        "\n",
        "ans = _sum(arr, n)\n",
        "\n",
        "# display sum\n",
        "print('Sum of the array is ', ans)\n",
        "\n"
      ],
      "metadata": {
        "colab": {
          "base_uri": "https://localhost:8080/"
        },
        "id": "69I_TcOckWUC",
        "outputId": "90a79435-b9bd-4b85-b320-ce6402064950"
      },
      "execution_count": null,
      "outputs": [
        {
          "output_type": "stream",
          "name": "stdout",
          "text": [
            "Sum of the array is  15\n"
          ]
        }
      ]
    },
    {
      "cell_type": "markdown",
      "source": [
        "Problem 26: Find the maximum element in an array of integers.\n",
        "\n",
        "Input: [3, 7, 2, 9, 4, 1]\n",
        "Output: 9\n",
        "\n",
        "The simplest approach is to solve this problem is to traverse the whole list and find the maximum among them.\n",
        "\n",
        "Create a local variable max and initiate it to arr[0] to store the maximum among the list\n",
        "Iterate over the array\n",
        "Compare arr[i] with max.\n",
        "If arr[i] > max, update max = arr[i].\n",
        "Increment i once.\n",
        "After the iteration is over, return max as the required answer."
      ],
      "metadata": {
        "id": "02TuS8brlGgY"
      }
    },
    {
      "cell_type": "code",
      "source": [
        "# Python3 program to find maximum in arr[] of size n\n",
        "\n",
        "\n",
        "# Function to find maximum in arr[] of size n\n",
        "def largest(arr, n):\n",
        "\n",
        "\t# Initialize maximum element\n",
        "\tmx = arr[0]\n",
        "\n",
        "\t# Traverse array elements from second\n",
        "\t# and compare every element with\n",
        "\t# current max\n",
        "\tfor i in range(1, n):\n",
        "\t\tif arr[i] > mx:\n",
        "\t\t\tmx = arr[i]\n",
        "\n",
        "\treturn mx\n",
        "\n",
        "\n",
        "if __name__ == '__main__':\n",
        "\tarr = [3, 7, 2, 9, 4, 1]\n",
        "\tn = len(arr)\n",
        "\n",
        "\t# Calculating length of an array\n",
        "\tAns = largest(arr, n)\n",
        "\n",
        "\t# display max\n",
        "\tprint(\"Largest in given array is\", Ans)\n",
        "\n"
      ],
      "metadata": {
        "colab": {
          "base_uri": "https://localhost:8080/"
        },
        "id": "qmNxWJAnlG6h",
        "outputId": "2708bedf-507a-4b0f-b441-b89f592384fe"
      },
      "execution_count": null,
      "outputs": [
        {
          "output_type": "stream",
          "name": "stdout",
          "text": [
            "Largest in given array is 9\n"
          ]
        }
      ]
    },
    {
      "cell_type": "markdown",
      "source": [
        "Problem 27: Implement linear search to find the index of a target element in an array.\n",
        "\n",
        "Input: [5, 3, 8, 2, 7, 4], target = 8\n",
        "Output: 2\n",
        "\n",
        "Every element is considered as a potential match for the key and checked for the same.\n",
        "If any element is found equal to the key, the search is successful and the index of that element is returned.\n",
        "If no element is found equal to the key, the search yields “No match found”."
      ],
      "metadata": {
        "id": "uDYR0BvsnkTh"
      }
    },
    {
      "cell_type": "code",
      "source": [
        "# Python3 code to linearly search x in arr[].\n",
        "\n",
        "\n",
        "def search(arr, N, x):\n",
        "\n",
        "    for i in range(0, N):\n",
        "        if (arr[i] == x):\n",
        "            return i\n",
        "    return -1\n",
        "\n",
        "\n",
        "\n",
        "if __name__ == \"__main__\":\n",
        "    arr = [5, 3, 8, 2, 7, 4]\n",
        "    x = 8\n",
        "    N = len(arr)\n",
        "\n",
        "    # Function call\n",
        "    result = search(arr, N, x)\n",
        "    if(result == -1):\n",
        "        print(\"Element is not present in array\")\n",
        "    else:\n",
        "        print(\"Element is present at index\", result)\n"
      ],
      "metadata": {
        "colab": {
          "base_uri": "https://localhost:8080/"
        },
        "id": "v1iFpJ6tnkkP",
        "outputId": "488fbbb2-41fe-4376-da57-e2f87b987b3e"
      },
      "execution_count": null,
      "outputs": [
        {
          "output_type": "stream",
          "name": "stdout",
          "text": [
            "Element is present at index 2\n"
          ]
        }
      ]
    },
    {
      "cell_type": "markdown",
      "source": [
        "Problem 28 Calculate the factorial of a given number.\n",
        "\n",
        "Input: 5\n",
        "Output: 120 (as 5! = 5 * 4 * 3 * 2 * 1 = 120)\n",
        "\n"
      ],
      "metadata": {
        "id": "p0hEfkw-qCBG"
      }
    },
    {
      "cell_type": "code",
      "source": [
        "# Python 3 program to find\n",
        "# factorial of given number\n",
        "\n",
        "# Function to find factorial of given number\n",
        "def factorial(n):\n",
        "\n",
        "\tif n == 0:\n",
        "\t\treturn 1\n",
        "\n",
        "\treturn n * factorial(n-1)\n",
        "\n",
        "# Driver Code\n",
        "num = 5;\n",
        "print(\"Factorial of\", num, \"is\",\n",
        "factorial(num))\n",
        "\n"
      ],
      "metadata": {
        "colab": {
          "base_uri": "https://localhost:8080/"
        },
        "id": "ta7b8IDiqCZY",
        "outputId": "306dc907-58bd-42cc-cd75-05c780734281"
      },
      "execution_count": null,
      "outputs": [
        {
          "output_type": "stream",
          "name": "stdout",
          "text": [
            "Factorial of 5 is 120\n"
          ]
        }
      ]
    },
    {
      "cell_type": "markdown",
      "source": [
        "Problem 29: Check if a given number is a prime number.\n",
        "\n",
        "Input: 7\n",
        "Output: True\n",
        "\n"
      ],
      "metadata": {
        "id": "_kB1bZ2bqckm"
      }
    },
    {
      "cell_type": "code",
      "source": [
        "# A school method based Python3 program\n",
        "# to check if a number is prime\n",
        "\n",
        "\n",
        "# import sqrt from math module\n",
        "from math import sqrt\n",
        "\n",
        "\n",
        "\n",
        "# Function check whether a number\n",
        "# is prime or not\n",
        "def isPrime(n):\n",
        "\n",
        "\t# Corner case\n",
        "\tif (n <= 1):\n",
        "\t\treturn False\n",
        "\n",
        "\t# Check from 2 to sqrt(n)\n",
        "\tfor i in range(2, int(sqrt(n))+1):\n",
        "\t\tif (n % i == 0):\n",
        "\t\t\treturn False\n",
        "\n",
        "\treturn True\n",
        "\n",
        "\n",
        "if __name__ == '__main__':\n",
        "\tif isPrime(7):\n",
        "\t\tprint(\"true\")\n",
        "\telse:\n",
        "\t\tprint(\"false\")\n",
        "\n",
        "\n"
      ],
      "metadata": {
        "colab": {
          "base_uri": "https://localhost:8080/"
        },
        "id": "v86lAtrgqcwD",
        "outputId": "f83ae013-71c6-4e18-bb9d-7e610017eb82"
      },
      "execution_count": null,
      "outputs": [
        {
          "output_type": "stream",
          "name": "stdout",
          "text": [
            "true\n"
          ]
        }
      ]
    },
    {
      "cell_type": "markdown",
      "source": [
        "Problem 30: Generate the Fibonacci series up to a given number n.\n",
        "\n",
        "Input: 8\n",
        "Output: [0, 1, 1, 2, 3, 5, 8, 13]\n",
        "\n"
      ],
      "metadata": {
        "id": "_itvrRP5HUv9"
      }
    },
    {
      "cell_type": "code",
      "source": [
        "def fibonacci(n):\n",
        "    if n <= 0:\n",
        "        return []\n",
        "    elif n == 1:\n",
        "        return [0]\n",
        "    elif n == 2:\n",
        "        return [0, 1]\n",
        "    else:\n",
        "        fib_series = [0, 1]\n",
        "        for i in range(2, n):\n",
        "            fib_series.append(fib_series[i-1] + fib_series[i-2])\n",
        "        return fib_series\n",
        "\n",
        "if __name__ == \"__main__\":\n",
        "    n = 8\n",
        "    print(\"Fibonacci Series up to\", n, \"th term:\")\n",
        "    print(fibonacci(n))\n"
      ],
      "metadata": {
        "colab": {
          "base_uri": "https://localhost:8080/"
        },
        "id": "0G0qSo2EHVBH",
        "outputId": "1e01b11e-0a58-4ad2-c6d2-4e410f40ba71"
      },
      "execution_count": null,
      "outputs": [
        {
          "output_type": "stream",
          "name": "stdout",
          "text": [
            "Fibonacci Series up to 8 th term:\n",
            "[0, 1, 1, 2, 3, 5, 8, 13]\n"
          ]
        }
      ]
    },
    {
      "cell_type": "markdown",
      "source": [
        "Problem 31: Calculate the power of a number using recursion.\n",
        "\n",
        "Input: base = 3, exponent = 4\n",
        "Output: 81 (as 3^4 = 3 * 3 * 3 * 3 = 81)\n",
        "\n",
        "Create a recursive function with parameters number N and power P.\n",
        "If P = 0 return 1.\n",
        "Else return N times result of the recursive call for N and\n",
        "P-1\n"
      ],
      "metadata": {
        "id": "TdwpsLZBI99V"
      }
    },
    {
      "cell_type": "code",
      "source": [
        "# Python3 code to recursively find\n",
        "# the power of a number\n",
        "\n",
        "# Recursive function to find N^P.\n",
        "def power(N, P):\n",
        "\n",
        "\t# If power is 0 then return 1\n",
        "\t# if condition is true\n",
        "\t# only then it will enter it,\n",
        "\t# otherwise not\n",
        "\tif P == 0:\n",
        "\t\treturn 1\n",
        "\n",
        "\t# Recurrence relation\n",
        "\treturn (N*power(N, P-1))\n",
        "\n",
        "\n",
        "# Driver code\n",
        "if __name__ == '__main__':\n",
        "\tN = 3\n",
        "\tP = 4\n",
        "\n",
        "\tprint(power(N, P))\n"
      ],
      "metadata": {
        "colab": {
          "base_uri": "https://localhost:8080/"
        },
        "id": "ivFn_aQII-ij",
        "outputId": "5113d039-3880-457c-c61f-99abd2111316"
      },
      "execution_count": null,
      "outputs": [
        {
          "output_type": "stream",
          "name": "stdout",
          "text": [
            "81\n"
          ]
        }
      ]
    },
    {
      "cell_type": "markdown",
      "source": [
        "Problem 32: Reverse a given string.\n",
        "\n",
        "Input: \"hello\"\n",
        "Output: \"olleh\"\n",
        "\n"
      ],
      "metadata": {
        "id": "lLkoQWAJLpCd"
      }
    },
    {
      "cell_type": "code",
      "source": [
        "def reverse_string(s):\n",
        "    # Convert string to list to use it as a char array\n",
        "    s = list(s)\n",
        "    start, end = 0, len(s) - 1\n",
        "\n",
        "    # Reverse each character by swapping\n",
        "    while start < end:\n",
        "        s[start], s[end] = s[end], s[start]\n",
        "        start += 1\n",
        "        end -= 1\n",
        "\n",
        "    # Convert the list back to string using string.join() function\n",
        "    return \"\".join(s)\n",
        "\n",
        "if __name__ == \"__main__\":\n",
        "    s = \"hello\"\n",
        "    reversed_str = reverse_string(s)\n",
        "    print(\"Reversed String:\", reversed_str)\n"
      ],
      "metadata": {
        "colab": {
          "base_uri": "https://localhost:8080/"
        },
        "id": "WVUCoe6xLpfu",
        "outputId": "4c3c81f6-d131-4ec4-8e7a-5be328eb1b7c"
      },
      "execution_count": null,
      "outputs": [
        {
          "output_type": "stream",
          "name": "stdout",
          "text": [
            "Reversed String: olleh\n"
          ]
        }
      ]
    }
  ]
}